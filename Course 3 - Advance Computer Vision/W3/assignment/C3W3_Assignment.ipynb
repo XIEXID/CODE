{
  "cells": [
    {
      "cell_type": "markdown",
      "metadata": {
        "id": "k6x_sGPQocpw"
      },
      "source": [
        "# Week 3 Assignment: Image Segmentation of Handwritten Digits\n",
        "\n",
        "<img src='https://storage.googleapis.com/tensorflow-3-public/assets/images/m2nist_segmentation.png' alt='m2nist digits'>\n",
        "\n",
        "In this week's assignment, you will build a model that predicts the segmentation masks (pixel-wise label map) of handwritten digits. This model will be trained on the [M2NIST dataset](https://www.kaggle.com/farhanhubble/multimnistm2nist), a multi digit MNIST. If you've done the ungraded lab on the CamVid dataset, then many of the steps here will look familiar.\n",
        "\n",
        "You will build a Convolutional Neural Network (CNN) from scratch for the downsampling path and use a Fully Convolutional Network, FCN-8, to upsample and produce the pixel-wise label map. The model will be evaluated using the intersection over union (IOU) and Dice Score. Finally, you will download the model and upload it to the grader in Coursera to get your score for the assignment."
      ]
    },
    {
      "cell_type": "code",
      "execution_count": 1,
      "metadata": {
        "id": "apaIsVITybNf",
        "outputId": "dde9decb-718d-4607-f83c-65a4cff84343",
        "colab": {
          "base_uri": "https://localhost:8080/"
        }
      },
      "outputs": [
        {
          "output_type": "stream",
          "name": "stdout",
          "text": [
            "\u001b[2K   \u001b[90m━━━━━━━━━━━━━━━━━━━━━━━━━━━━━━━━━━━━━━━━\u001b[0m \u001b[32m1.7/1.7 MB\u001b[0m \u001b[31m35.1 MB/s\u001b[0m eta \u001b[36m0:00:00\u001b[0m\n",
            "\u001b[2K   \u001b[90m━━━━━━━━━━━━━━━━━━━━━━━━━━━━━━━━━━━━━━━━\u001b[0m \u001b[32m475.2/475.2 MB\u001b[0m \u001b[31m3.4 MB/s\u001b[0m eta \u001b[36m0:00:00\u001b[0m\n",
            "\u001b[2K   \u001b[90m━━━━━━━━━━━━━━━━━━━━━━━━━━━━━━━━━━━━━━━━\u001b[0m \u001b[32m1.7/1.7 MB\u001b[0m \u001b[31m59.1 MB/s\u001b[0m eta \u001b[36m0:00:00\u001b[0m\n",
            "\u001b[2K   \u001b[90m━━━━━━━━━━━━━━━━━━━━━━━━━━━━━━━━━━━━━━━━\u001b[0m \u001b[32m1.0/1.0 MB\u001b[0m \u001b[31m46.4 MB/s\u001b[0m eta \u001b[36m0:00:00\u001b[0m\n",
            "\u001b[2K   \u001b[90m━━━━━━━━━━━━━━━━━━━━━━━━━━━━━━━━━━━━━━━━\u001b[0m \u001b[32m5.5/5.5 MB\u001b[0m \u001b[31m75.7 MB/s\u001b[0m eta \u001b[36m0:00:00\u001b[0m\n",
            "\u001b[2K   \u001b[90m━━━━━━━━━━━━━━━━━━━━━━━━━━━━━━━━━━━━━━━━\u001b[0m \u001b[32m442.0/442.0 kB\u001b[0m \u001b[31m31.8 MB/s\u001b[0m eta \u001b[36m0:00:00\u001b[0m\n",
            "\u001b[2K   \u001b[90m━━━━━━━━━━━━━━━━━━━━━━━━━━━━━━━━━━━━━━━━\u001b[0m \u001b[32m77.9/77.9 kB\u001b[0m \u001b[31m7.8 MB/s\u001b[0m eta \u001b[36m0:00:00\u001b[0m\n",
            "\u001b[?25h\u001b[31mERROR: pip's dependency resolver does not currently take into account all the packages that are installed. This behaviour is the source of the following dependency conflicts.\n",
            "tensorstore 0.1.69 requires ml-dtypes>=0.3.1, but you have ml-dtypes 0.2.0 which is incompatible.\u001b[0m\u001b[31m\n",
            "\u001b[0m"
          ]
        }
      ],
      "source": [
        "# Install packages for compatibility with the Colab GPU and conversion for the autograder\n",
        "\n",
        "# NOTE: You can safely ignore errors about version incompatibility of\n",
        "# Colab-bundled packages (e.g. xarray, pydantic, etc.)\n",
        "\n",
        "!pip install tf-keras==2.15 --quiet\n",
        "!pip install tensorflow==2.15 --quiet\n",
        "!pip install keras==2.15 --quiet"
      ]
    },
    {
      "cell_type": "markdown",
      "metadata": {
        "id": "cnr0kbM0g2LD"
      },
      "source": [
        "## Exercises\n",
        "\n",
        "We've given you some boilerplate code to work with and these are the 5 exercises you need to fill out before you can successfully get the segmentation masks.\n",
        "\n",
        "* [Exercise 1 - Define the Basic Convolution Block](#exercise-1)\n",
        "* [Exercise 2 - Define the Downsampling Path](#exercise-2)\n",
        "* [Exercise 3 - Define the FCN-8 decoder](#exercise-3)\n",
        "* [Exercise 4 - Compile the Model](#exercise-4)\n",
        "* [Exercise 5 - Model Training](#exercise-5)"
      ]
    },
    {
      "cell_type": "markdown",
      "metadata": {
        "id": "MZ3g9dJxSxmN"
      },
      "source": [
        "## Imports\n",
        "\n",
        "As usual, let's start by importing the packages you will use in this lab."
      ]
    },
    {
      "cell_type": "code",
      "execution_count": 2,
      "metadata": {
        "id": "aifz2907kxYN"
      },
      "outputs": [],
      "source": [
        "import os\n",
        "import zipfile\n",
        "\n",
        "import PIL.Image, PIL.ImageFont, PIL.ImageDraw\n",
        "import numpy as np\n",
        "from matplotlib import pyplot as plt\n",
        "\n",
        "import tensorflow as tf\n",
        "import tensorflow_datasets as tfds\n",
        "from sklearn.model_selection import train_test_split\n",
        "\n",
        "# Check if you have the correct Tensorflow version\n",
        "assert tf.__version__ == '2.15.0', f'You have TF v{tf.__version__}. Please install TF and Keras v2.15, and select Runtime > Restart Session'"
      ]
    },
    {
      "cell_type": "markdown",
      "metadata": {
        "id": "7RYh6cCzXE6R"
      },
      "source": [
        "## Download the dataset"
      ]
    },
    {
      "cell_type": "markdown",
      "metadata": {
        "id": "QUGGF3wfqYni"
      },
      "source": [
        "[M2NIST](https://www.kaggle.com/farhanhubble/multimnistm2nist) is a **multi digit** [MNIST](http://yann.lecun.com/exdb/mnist/).\n",
        "Each image has up to 3 digits from MNIST digits and the corresponding labels file has the segmentation masks.\n",
        "\n",
        "The dataset is available on [Kaggle](https://www.kaggle.com) and you can find it [here](https://www.kaggle.com/farhanhubble/multimnistm2nist)\n",
        "\n",
        "To make it easier for you, we're hosting it on Google Cloud so you can download without Kaggle credentials.\n"
      ]
    },
    {
      "cell_type": "code",
      "execution_count": 3,
      "metadata": {
        "id": "ROok0i9rMcu0",
        "outputId": "2d4f0815-9f4c-4796-a70f-3de5727ac4a0",
        "colab": {
          "base_uri": "https://localhost:8080/"
        }
      },
      "outputs": [
        {
          "output_type": "stream",
          "name": "stdout",
          "text": [
            "--2024-12-14 15:33:56--  https://storage.googleapis.com/tensorflow-1-public/tensorflow-3-temp/m2nist.zip\n",
            "Resolving storage.googleapis.com (storage.googleapis.com)... 172.217.218.207, 142.251.31.207, 142.251.18.207, ...\n",
            "Connecting to storage.googleapis.com (storage.googleapis.com)|172.217.218.207|:443... connected.\n",
            "HTTP request sent, awaiting response... 200 OK\n",
            "Length: 17378168 (17M) [application/zip]\n",
            "Saving to: ‘/tmp/m2nist.zip’\n",
            "\n",
            "/tmp/m2nist.zip     100%[===================>]  16.57M  15.0MB/s    in 1.1s    \n",
            "\n",
            "2024-12-14 15:33:58 (15.0 MB/s) - ‘/tmp/m2nist.zip’ saved [17378168/17378168]\n",
            "\n"
          ]
        }
      ],
      "source": [
        "# download zipped dataset\n",
        "!wget --no-check-certificate \\\n",
        "    https://storage.googleapis.com/tensorflow-1-public/tensorflow-3-temp/m2nist.zip \\\n",
        "    -O /tmp/m2nist.zip\n",
        "\n",
        "# find and extract to a local folder ('/tmp/training')\n",
        "local_zip = '/tmp/m2nist.zip'\n",
        "zip_ref = zipfile.ZipFile(local_zip, 'r')\n",
        "zip_ref.extractall('/tmp/training')\n",
        "zip_ref.close()"
      ]
    },
    {
      "cell_type": "markdown",
      "metadata": {
        "id": "xy17LYR7XJNa"
      },
      "source": [
        "## Load and Preprocess the Dataset"
      ]
    },
    {
      "cell_type": "markdown",
      "metadata": {
        "id": "LXGMrWnkrvpK"
      },
      "source": [
        "This dataset can be easily preprocessed since it is available as **Numpy Array Files (.npy)**\n",
        "\n",
        "1. **combined.npy** has the image files containing the multiple MNIST digits. Each image is of size **64 x 84** (height x width, in pixels).\n",
        "\n",
        "2. **segmented.npy** has the corresponding segmentation masks. Each segmentation mask is also of size **64 x 84**.\n",
        "\n",
        "This dataset has **5000** samples and you can make appropriate training, validation, and test splits as required for the problem.\n",
        "\n",
        "With that, let's define a few utility functions for loading and preprocessing the dataset."
      ]
    },
    {
      "cell_type": "code",
      "execution_count": 4,
      "metadata": {
        "id": "Jy_pw5I2-xLP"
      },
      "outputs": [],
      "source": [
        "BATCH_SIZE = 32\n",
        "\n",
        "def read_image_and_annotation(image, annotation):\n",
        "  '''\n",
        "  Casts the image and annotation to their expected data type and\n",
        "  normalizes the input image so that each pixel is in the range [-1, 1]\n",
        "\n",
        "  Args:\n",
        "    image (numpy array) -- input image\n",
        "    annotation (numpy array) -- ground truth label map\n",
        "\n",
        "  Returns:\n",
        "    preprocessed image-annotation pair\n",
        "  '''\n",
        "\n",
        "  image = tf.cast(image, dtype=tf.float32)\n",
        "  image = tf.reshape(image, (image.shape[0], image.shape[1], 1,))\n",
        "  annotation = tf.cast(annotation, dtype=tf.int32)\n",
        "  image = image / 127.5\n",
        "  image -= 1\n",
        "\n",
        "  return image, annotation\n",
        "\n",
        "\n",
        "def get_training_dataset(images, annos):\n",
        "  '''\n",
        "  Prepares shuffled batches of the training set.\n",
        "\n",
        "  Args:\n",
        "    images (list of strings) -- paths to each image file in the train set\n",
        "    annos (list of strings) -- paths to each label map in the train set\n",
        "\n",
        "  Returns:\n",
        "    tf Dataset containing the preprocessed train set\n",
        "  '''\n",
        "  training_dataset = tf.data.Dataset.from_tensor_slices((images, annos))\n",
        "  training_dataset = training_dataset.map(read_image_and_annotation)\n",
        "\n",
        "  training_dataset = training_dataset.shuffle(512, reshuffle_each_iteration=True)\n",
        "  training_dataset = training_dataset.batch(BATCH_SIZE)\n",
        "  training_dataset = training_dataset.repeat()\n",
        "  training_dataset = training_dataset.prefetch(-1)\n",
        "\n",
        "  return training_dataset\n",
        "\n",
        "\n",
        "def get_validation_dataset(images, annos):\n",
        "  '''\n",
        "  Prepares batches of the validation set.\n",
        "\n",
        "  Args:\n",
        "    images (list of strings) -- paths to each image file in the val set\n",
        "    annos (list of strings) -- paths to each label map in the val set\n",
        "\n",
        "  Returns:\n",
        "    tf Dataset containing the preprocessed validation set\n",
        "  '''\n",
        "  validation_dataset = tf.data.Dataset.from_tensor_slices((images, annos))\n",
        "  validation_dataset = validation_dataset.map(read_image_and_annotation)\n",
        "  validation_dataset = validation_dataset.batch(BATCH_SIZE)\n",
        "  validation_dataset = validation_dataset.repeat()\n",
        "\n",
        "  return validation_dataset\n",
        "\n",
        "\n",
        "def get_test_dataset(images, annos):\n",
        "  '''\n",
        "  Prepares batches of the test set.\n",
        "\n",
        "  Args:\n",
        "    images (list of strings) -- paths to each image file in the test set\n",
        "    annos (list of strings) -- paths to each label map in the test set\n",
        "\n",
        "  Returns:\n",
        "    tf Dataset containing the preprocessed validation set\n",
        "  '''\n",
        "  test_dataset = tf.data.Dataset.from_tensor_slices((images, annos))\n",
        "  test_dataset = test_dataset.map(read_image_and_annotation)\n",
        "  test_dataset = test_dataset.batch(BATCH_SIZE, drop_remainder=True)\n",
        "\n",
        "  return test_dataset\n",
        "\n",
        "\n",
        "def load_images_and_segments():\n",
        "  '''\n",
        "  Loads the images and segments as numpy arrays from npy files\n",
        "  and makes splits for training, validation and test datasets.\n",
        "\n",
        "  Returns:\n",
        "    3 tuples containing the train, val, and test splits\n",
        "  '''\n",
        "\n",
        "  #Loads images and segmentation masks.\n",
        "  images = np.load('/tmp/training/combined.npy')\n",
        "  segments = np.load('/tmp/training/segmented.npy')\n",
        "\n",
        "  #Makes training, validation, test splits from loaded images and segmentation masks.\n",
        "  train_images, val_images, train_annos, val_annos = train_test_split(images, segments, test_size=0.2, shuffle=True)\n",
        "  val_images, test_images, val_annos, test_annos = train_test_split(val_images, val_annos, test_size=0.2, shuffle=True)\n",
        "\n",
        "  return (train_images, train_annos), (val_images, val_annos), (test_images, test_annos)"
      ]
    },
    {
      "cell_type": "markdown",
      "metadata": {
        "id": "iPHO1YbTACcu"
      },
      "source": [
        "You can now load the preprocessed dataset and define the training, validation, and test sets."
      ]
    },
    {
      "cell_type": "code",
      "execution_count": 5,
      "metadata": {
        "id": "hIS70_um_Y7n"
      },
      "outputs": [],
      "source": [
        "# Load Dataset\n",
        "train_slices, val_slices, test_slices = load_images_and_segments()\n",
        "\n",
        "# Create training, validation, test datasets.\n",
        "training_dataset = get_training_dataset(train_slices[0], train_slices[1])\n",
        "validation_dataset = get_validation_dataset(val_slices[0], val_slices[1])\n",
        "test_dataset = get_test_dataset(test_slices[0], test_slices[1])"
      ]
    },
    {
      "cell_type": "markdown",
      "metadata": {
        "id": "oKXJYZi7A0dF"
      },
      "source": [
        "## Let's Take a Look at the Dataset\n",
        "\n",
        "You may want to visually inspect the dataset before and after training. Like above, we've included utility functions to help show a few images as well as their annotations (i.e. labels)."
      ]
    },
    {
      "cell_type": "code",
      "execution_count": 6,
      "metadata": {
        "cellView": "both",
        "id": "d46YCbvPafbp"
      },
      "outputs": [],
      "source": [
        "# Visualization Utilities\n",
        "\n",
        "# there are 11 classes in the dataset: one class for each digit (0 to 9) plus the background class\n",
        "n_classes = 11\n",
        "\n",
        "# assign a random color for each class\n",
        "colors = [tuple(np.random.randint(256, size=3) / 255.0) for i in range(n_classes)]\n",
        "\n",
        "def fuse_with_pil(images):\n",
        "  '''\n",
        "  Creates a blank image and pastes input images\n",
        "\n",
        "  Args:\n",
        "    images (list of numpy arrays) - numpy array representations of the images to paste\n",
        "\n",
        "  Returns:\n",
        "    PIL Image object containing the images\n",
        "  '''\n",
        "\n",
        "  widths = (image.shape[1] for image in images)\n",
        "  heights = (image.shape[0] for image in images)\n",
        "  total_width = sum(widths)\n",
        "  max_height = max(heights)\n",
        "\n",
        "  new_im = PIL.Image.new('RGB', (total_width, max_height))\n",
        "\n",
        "  x_offset = 0\n",
        "  for im in images:\n",
        "    pil_image = PIL.Image.fromarray(np.uint8(im))\n",
        "    new_im.paste(pil_image, (x_offset,0))\n",
        "    x_offset += im.shape[1]\n",
        "\n",
        "  return new_im\n",
        "\n",
        "\n",
        "def give_color_to_annotation(annotation):\n",
        "  '''\n",
        "  Converts a 2-D annotation to a numpy array with shape (height, width, 3) where\n",
        "  the third axis represents the color channel. The label values are multiplied by\n",
        "  255 and placed in this axis to give color to the annotation\n",
        "\n",
        "  Args:\n",
        "    annotation (numpy array) - label map array\n",
        "\n",
        "  Returns:\n",
        "    the annotation array with an additional color channel/axis\n",
        "  '''\n",
        "  seg_img = np.zeros( (annotation.shape[0],annotation.shape[1], 3) ).astype('float')\n",
        "\n",
        "  for c in range(n_classes):\n",
        "    segc = (annotation == c)\n",
        "    seg_img[:,:,0] += segc*( colors[c][0] * 255.0)\n",
        "    seg_img[:,:,1] += segc*( colors[c][1] * 255.0)\n",
        "    seg_img[:,:,2] += segc*( colors[c][2] * 255.0)\n",
        "\n",
        "  return seg_img\n",
        "\n",
        "\n",
        "def show_annotation_and_prediction(image, annotation, prediction, iou_list, dice_score_list):\n",
        "  '''\n",
        "  Displays the images with the ground truth and predicted label maps. Also overlays the metrics.\n",
        "\n",
        "  Args:\n",
        "    image (numpy array) -- the input image\n",
        "    annotation (numpy array) -- the ground truth label map\n",
        "    prediction (numpy array) -- the predicted label map\n",
        "    iou_list (list of floats) -- the IOU values for each class\n",
        "    dice_score_list (list of floats) -- the Dice Score for each class\n",
        "  '''\n",
        "\n",
        "  new_ann = np.argmax(annotation, axis=2)\n",
        "  true_img = give_color_to_annotation(new_ann)\n",
        "  pred_img = give_color_to_annotation(prediction)\n",
        "\n",
        "  image = image + 1\n",
        "  image = image * 127.5\n",
        "  image = np.reshape(image, (image.shape[0], image.shape[1],))\n",
        "  image = np.uint8(image)\n",
        "  images = [image, np.uint8(pred_img), np.uint8(true_img)]\n",
        "\n",
        "  metrics_by_id = [(idx, iou, dice_score) for idx, (iou, dice_score) in enumerate(zip(iou_list, dice_score_list)) if iou > 0.0 and idx < 10]\n",
        "  metrics_by_id.sort(key=lambda tup: tup[1], reverse=True)  # sorts in place\n",
        "\n",
        "  display_string_list = [\"{}: IOU: {} Dice Score: {}\".format(idx, iou, dice_score) for idx, iou, dice_score in metrics_by_id]\n",
        "  display_string = \"\\n\".join(display_string_list)\n",
        "\n",
        "  plt.figure(figsize=(15, 4))\n",
        "\n",
        "  for idx, im in enumerate(images):\n",
        "    plt.subplot(1, 3, idx+1)\n",
        "    if idx == 1:\n",
        "      plt.xlabel(display_string)\n",
        "    plt.xticks([])\n",
        "    plt.yticks([])\n",
        "    plt.imshow(im)\n",
        "\n",
        "\n",
        "def show_annotation_and_image(image, annotation):\n",
        "  '''\n",
        "  Displays the image and its annotation side by side\n",
        "\n",
        "  Args:\n",
        "    image (numpy array) -- the input image\n",
        "    annotation (numpy array) -- the label map\n",
        "  '''\n",
        "  new_ann = np.argmax(annotation, axis=2)\n",
        "  seg_img = give_color_to_annotation(new_ann)\n",
        "\n",
        "  image = image + 1\n",
        "  image = image * 127.5\n",
        "  image = np.reshape(image, (image.shape[0], image.shape[1],))\n",
        "\n",
        "  image = np.uint8(image)\n",
        "  images = [image, seg_img]\n",
        "\n",
        "  images = [image, seg_img]\n",
        "  fused_img = fuse_with_pil(images)\n",
        "  plt.imshow(fused_img)\n",
        "\n",
        "\n",
        "def list_show_annotation(dataset, num_images):\n",
        "  '''\n",
        "  Displays images and its annotations side by side\n",
        "\n",
        "  Args:\n",
        "    dataset (tf Dataset) -- batch of images and annotations\n",
        "    num_images (int) -- number of images to display\n",
        "  '''\n",
        "  ds = dataset.unbatch()\n",
        "\n",
        "  plt.figure(figsize=(20, 15))\n",
        "  plt.title(\"Images And Annotations\")\n",
        "  plt.subplots_adjust(bottom=0.1, top=0.9, hspace=0.05)\n",
        "\n",
        "  for idx, (image, annotation) in enumerate(ds.take(num_images)):\n",
        "    plt.subplot(5, 5, idx + 1)\n",
        "    plt.yticks([])\n",
        "    plt.xticks([])\n",
        "    show_annotation_and_image(image.numpy(), annotation.numpy())\n"
      ]
    },
    {
      "cell_type": "markdown",
      "metadata": {
        "id": "hEfyChmKEFKe"
      },
      "source": [
        "You can view a subset of the images from the dataset with the `list_show_annotation()` function defined above. Run the cells below to see the image on the left and its pixel-wise ground truth label map on the right."
      ]
    },
    {
      "cell_type": "code",
      "execution_count": 7,
      "metadata": {
        "id": "AFO_hIhLWYT4",
        "outputId": "adca2aba-90de-499f-ac6e-a9abebd43d9c",
        "colab": {
          "base_uri": "https://localhost:8080/",
          "height": 1000
        }
      },
      "outputs": [
        {
          "output_type": "display_data",
          "data": {
            "text/plain": [
              "<Figure size 2000x1500 with 11 Axes>"
            ],
            "image/png": "[encoded data removed]"
          },
          "metadata": {}
        }
      ],
      "source": [
        "# get 10 images from the training set\n",
        "list_show_annotation(training_dataset, 10)"
      ]
    },
    {
      "cell_type": "code",
      "execution_count": 8,
      "metadata": {
        "id": "bdgVkp8wZua0",
        "outputId": "88882013-bc10-44a7-a5de-971bdd92e545",
        "colab": {
          "base_uri": "https://localhost:8080/",
          "height": 1000
        }
      },
      "outputs": [
        {
          "output_type": "display_data",
          "data": {
            "text/plain": [
              "<Figure size 2000x1500 with 11 Axes>"
            ],
            "image/png": "[encoded data removed]"
          },
          "metadata": {}
        }
      ],
      "source": [
        "# get 10 images from the validation set\n",
        "list_show_annotation(validation_dataset, 10)"
      ]
    },
    {
      "cell_type": "markdown",
      "metadata": {
        "id": "KkpgIcE2FeKI"
      },
      "source": [
        "You see from the images above the colors assigned to each class (i.e 0 to 9 plus the background). If you don't like these colors, feel free to rerun the cell where `colors` is defined to get another set of random colors. Alternatively, you can assign the RGB values for each class instead of relying on random values."
      ]
    },
    {
      "cell_type": "markdown",
      "metadata": {
        "id": "QFv2k8xabRb8"
      },
      "source": [
        "## Define the Model"
      ]
    },
    {
      "cell_type": "markdown",
      "metadata": {
        "id": "Q_ylpyqJDQiF"
      },
      "source": [
        "As discussed in the lectures, the image segmentation model will have two paths:\n",
        "\n",
        "1. **Downsampling Path** - This part of the network extracts the features in the image. This is done through a series of convolution and pooling layers. The final output is a reduced image (because of the pooling layers) with the extracted features. You will build a custom CNN from scratch for this path.\n",
        "\n",
        "2. **Upsampling Path** - This takes the output of the downsampling path and generates the predictions while also converting the image back to its original size. You will use an FCN-8 decoder for this path."
      ]
    },
    {
      "cell_type": "markdown",
      "metadata": {
        "id": "BHlBUZvsDybt"
      },
      "source": [
        "### Define the Basic Convolution Block"
      ]
    },
    {
      "cell_type": "markdown",
      "metadata": {
        "id": "T-XO9xkN1OR3"
      },
      "source": [
        "<a name='exercise-1'></a>\n",
        "\n",
        "#### **Exercise 1**\n",
        "\n",
        "Please complete the function below to build the basic convolution block for our CNN. This will have two [Conv2D](https://keras.io/api/layers/convolution_layers/convolution2d/) layers each followed by a [LeakyReLU](https://keras.io/api/layers/activation_layers/leaky_relu/), then [max pooled](https://keras.io/api/layers/pooling_layers/max_pooling2d/) and [batch-normalized](https://keras.io/api/layers/normalization_layers/batch_normalization/). Use the functional syntax to stack these layers.\n",
        "\n",
        "$$Input -> Conv2D -> LeakyReLU -> Conv2D -> LeakyReLU -> MaxPooling2D -> BatchNormalization$$\n",
        "\n",
        "When defining the Conv2D layers, note that our data inputs will have the 'channels' dimension last. You may want to check the `data_format` argument in the [docs](https://keras.io/api/layers/convolution_layers/convolution2d/) regarding this. Take note of the `padding` argument too like you did in the ungraded labs."
      ]
    },
    {
      "cell_type": "code",
      "execution_count": 9,
      "metadata": {
        "id": "azEEVytHR0Kn"
      },
      "outputs": [],
      "source": [
        "# parameter describing where the channel dimension is found in our dataset\n",
        "IMAGE_ORDERING = 'channels_last'\n",
        "\n",
        "def conv_block(input, filters, kernel_size, pooling_size, pool_strides):\n",
        "  '''\n",
        "  Args:\n",
        "    input (tensor) -- batch of images or features\n",
        "    filters (int) -- number of filters of the Conv2D layers\n",
        "    kernel_size (int) -- kernel_size setting of the Conv2D layers\n",
        "    pooling_size (int) -- pooling size of the MaxPooling2D layers\n",
        "    pool_strides (int) -- strides setting of the MaxPooling2D layers\n",
        "\n",
        "  Returns:\n",
        "    (tensor) max pooled and batch-normalized features of the input\n",
        "  '''\n",
        "  ### START CODE HERE ###\n",
        "  # use the functional syntax to stack the layers as shown in the diagram above\n",
        "  x = tf.keras.layers.Conv2D(filters,\n",
        "                               kernel_size,\n",
        "                               padding='same',\n",
        "                               data_format=IMAGE_ORDERING)(input)\n",
        "  x = tf.keras.layers.LeakyReLU()(x)\n",
        "  x = tf.keras.layers.Conv2D(filters,\n",
        "                               kernel_size,\n",
        "                               padding='same',\n",
        "                               data_format=IMAGE_ORDERING)(x)\n",
        "  x = tf.keras.layers.LeakyReLU()(x)\n",
        "  x = tf.keras.layers.MaxPool2D(pooling_size,\n",
        "                                  pool_strides,\n",
        "                                  data_format=IMAGE_ORDERING)(x)\n",
        "  x = tf.keras.layers.BatchNormalization()(x)\n",
        "  ### END CODE HERE ###\n",
        "\n",
        "  return x"
      ]
    },
    {
      "cell_type": "code",
      "execution_count": 10,
      "metadata": {
        "id": "uGtlHuM6KCRg",
        "outputId": "d54f8b60-3a7b-4110-cd3f-f4e84131e66b",
        "colab": {
          "base_uri": "https://localhost:8080/"
        }
      },
      "outputs": [
        {
          "output_type": "stream",
          "name": "stdout",
          "text": [
            "Model: \"model\"\n",
            "_________________________________________________________________\n",
            " Layer (type)                Output Shape              Param #   \n",
            "=================================================================\n",
            " input_1 (InputLayer)        [(None, 64, 84, 1)]       0         \n",
            "                                                                 \n",
            " conv2d (Conv2D)             (None, 64, 84, 32)        320       \n",
            "                                                                 \n",
            " leaky_re_lu (LeakyReLU)     (None, 64, 84, 32)        0         \n",
            "                                                                 \n",
            " conv2d_1 (Conv2D)           (None, 64, 84, 32)        9248      \n",
            "                                                                 \n",
            " leaky_re_lu_1 (LeakyReLU)   (None, 64, 84, 32)        0         \n",
            "                                                                 \n",
            " max_pooling2d (MaxPooling2  (None, 32, 42, 32)        0         \n",
            " D)                                                              \n",
            "                                                                 \n",
            " batch_normalization (Batch  (None, 32, 42, 32)        128       \n",
            " Normalization)                                                  \n",
            "                                                                 \n",
            "=================================================================\n",
            "Total params: 9696 (37.88 KB)\n",
            "Trainable params: 9632 (37.62 KB)\n",
            "Non-trainable params: 64 (256.00 Byte)\n",
            "_________________________________________________________________\n",
            "None\n"
          ]
        }
      ],
      "source": [
        "# TEST CODE:\n",
        "\n",
        "test_input = tf.keras.layers.Input(shape=(64,84, 1))\n",
        "test_output = conv_block(test_input, 32, 3, 2, 2)\n",
        "test_model = tf.keras.Model(inputs=test_input, outputs=test_output)\n",
        "\n",
        "print(test_model.summary())\n",
        "\n",
        "# free up test resources\n",
        "del test_input, test_output, test_model"
      ]
    },
    {
      "cell_type": "markdown",
      "metadata": {
        "id": "Mmf_ZaMP2rV3"
      },
      "source": [
        "**Expected Output**:\n",
        "\n",
        "Please pay attention to the *(type)* and *Output Shape* columns. The *Layer* name beside the type may be different depending on how many times you ran the cell (e.g. `input_7` can be `input_1`)\n",
        "\n",
        "```txt\n",
        "Model: \"functional_1\"\n",
        "_________________________________________________________________\n",
        "Layer (type)                 Output Shape              Param #   \n",
        "=================================================================\n",
        "input_1 (InputLayer)         [(None, 64, 84, 1)]       0         \n",
        "_________________________________________________________________\n",
        "conv2d (Conv2D)              (None, 64, 84, 32)        320       \n",
        "_________________________________________________________________\n",
        "leaky_re_lu (LeakyReLU)      (None, 64, 84, 32)        0         \n",
        "_________________________________________________________________\n",
        "conv2d_1 (Conv2D)            (None, 64, 84, 32)        9248      \n",
        "_________________________________________________________________\n",
        "leaky_re_lu_1 (LeakyReLU)    (None, 64, 84, 32)        0         \n",
        "_________________________________________________________________\n",
        "max_pooling2d (MaxPooling2D) (None, 32, 42, 32)        0         \n",
        "_________________________________________________________________\n",
        "batch_normalization (BatchNo (None, 32, 42, 32)        128       \n",
        "=================================================================\n",
        "Total params: 9,696\n",
        "Trainable params: 9,632\n",
        "Non-trainable params: 64\n",
        "_________________________________________________________________\n",
        "None\n",
        "```"
      ]
    },
    {
      "cell_type": "markdown",
      "metadata": {
        "id": "4-jJbC91EXTV"
      },
      "source": [
        "### Define the Downsampling Path"
      ]
    },
    {
      "cell_type": "markdown",
      "metadata": {
        "id": "e2ueOTmc3HxJ"
      },
      "source": [
        "<a name='exercise-2'></a>\n",
        "\n",
        "#### **Exercise 2**\n",
        "\n",
        "Now that we've defined the building block of our encoder, you can now build the downsampling path. Please complete the function below to create the encoder. This should chain together five convolution building blocks to create a feature extraction CNN minus the fully connected layers.\n",
        "\n",
        "*Notes*:\n",
        "1. To optimize processing or to make the output dimensions of each layer easier to work with, it is sometimes advisable to apply some zero-padding to the input image. With the boilerplate code we have provided below, we have padded the input width to 96 pixels using the [ZeroPadding2D layer](https://keras.io/api/layers/reshaping_layers/zero_padding2d/). This works well if you're going to use the first ungraded lab of this week as reference. This is not required however. You can remove it later and see how it will affect your parameters. For instance, you might need to pass in a non-square kernel size to the decoder in Exercise 3 (e.g. `(4,5)`) to match the output dimensions of Exercise 2.\n",
        "\n",
        "2. We recommend keeping the pool size and stride parameters constant at 2."
      ]
    },
    {
      "cell_type": "code",
      "execution_count": 11,
      "metadata": {
        "id": "F2VNB99LRwQr"
      },
      "outputs": [],
      "source": [
        "def FCN8(input_height=64, input_width=84):\n",
        "    '''\n",
        "    Defines the downsampling path of the image segmentation model.\n",
        "\n",
        "    Args:\n",
        "      input_height (int) -- height of the images\n",
        "      width (int) -- width of the images\n",
        "\n",
        "    Returns:\n",
        "    (tuple of tensors, tensor)\n",
        "      tuple of tensors -- features extracted at blocks 3 to 5\n",
        "      tensor -- copy of the input\n",
        "    '''\n",
        "\n",
        "    img_input = tf.keras.layers.Input(shape=(input_height,input_width, 1))\n",
        "\n",
        "    ### START CODE HERE ###\n",
        "\n",
        "    # pad the input image width to 96 pixels\n",
        "    x = tf.keras.layers.ZeroPadding2D(((0, 0), (0, 96-input_width)))(img_input)\n",
        "\n",
        "    # Block 1\n",
        "    x = conv_block(x, filters=32, kernel_size=3, pooling_size=2, pool_strides=2)\n",
        "\n",
        "    # Block 2\n",
        "    x = conv_block(x, filters=64, kernel_size=3, pooling_size=2, pool_strides=2)\n",
        "\n",
        "    # Block 3\n",
        "    x = conv_block(x, filters=128, kernel_size=3, pooling_size=2, pool_strides=2)\n",
        "    # save the feature map at this stage\n",
        "    f3 = x\n",
        "\n",
        "    # Block 4\n",
        "    x = conv_block(x, filters=256, kernel_size=3, pooling_size=2, pool_strides=2)\n",
        "    # save the feature map at this stage\n",
        "    f4 = x\n",
        "\n",
        "    # Block 5\n",
        "    x = conv_block(x, filters=256, kernel_size=3, pooling_size=2, pool_strides=2)\n",
        "    # save the feature map at this stage\n",
        "    f5 = x\n",
        "\n",
        "    ### END CODE HERE ###\n",
        "\n",
        "    return (f3, f4, f5), img_input"
      ]
    },
    {
      "cell_type": "code",
      "execution_count": 12,
      "metadata": {
        "id": "HVQm1W0CNICS",
        "outputId": "28e0a985-3ca0-491a-9b6a-33dd688badf4",
        "colab": {
          "base_uri": "https://localhost:8080/"
        }
      },
      "outputs": [
        {
          "output_type": "stream",
          "name": "stdout",
          "text": [
            "Model: \"model_1\"\n",
            "_________________________________________________________________\n",
            " Layer (type)                Output Shape              Param #   \n",
            "=================================================================\n",
            " input_2 (InputLayer)        [(None, 64, 84, 1)]       0         \n",
            "                                                                 \n",
            " zero_padding2d (ZeroPaddin  (None, 64, 96, 1)         0         \n",
            " g2D)                                                            \n",
            "                                                                 \n",
            " conv2d_2 (Conv2D)           (None, 64, 96, 32)        320       \n",
            "                                                                 \n",
            " leaky_re_lu_2 (LeakyReLU)   (None, 64, 96, 32)        0         \n",
            "                                                                 \n",
            " conv2d_3 (Conv2D)           (None, 64, 96, 32)        9248      \n",
            "                                                                 \n",
            " leaky_re_lu_3 (LeakyReLU)   (None, 64, 96, 32)        0         \n",
            "                                                                 \n",
            " max_pooling2d_1 (MaxPoolin  (None, 32, 48, 32)        0         \n",
            " g2D)                                                            \n",
            "                                                                 \n",
            " batch_normalization_1 (Bat  (None, 32, 48, 32)        128       \n",
            " chNormalization)                                                \n",
            "                                                                 \n",
            " conv2d_4 (Conv2D)           (None, 32, 48, 64)        18496     \n",
            "                                                                 \n",
            " leaky_re_lu_4 (LeakyReLU)   (None, 32, 48, 64)        0         \n",
            "                                                                 \n",
            " conv2d_5 (Conv2D)           (None, 32, 48, 64)        36928     \n",
            "                                                                 \n",
            " leaky_re_lu_5 (LeakyReLU)   (None, 32, 48, 64)        0         \n",
            "                                                                 \n",
            " max_pooling2d_2 (MaxPoolin  (None, 16, 24, 64)        0         \n",
            " g2D)                                                            \n",
            "                                                                 \n",
            " batch_normalization_2 (Bat  (None, 16, 24, 64)        256       \n",
            " chNormalization)                                                \n",
            "                                                                 \n",
            " conv2d_6 (Conv2D)           (None, 16, 24, 128)       73856     \n",
            "                                                                 \n",
            " leaky_re_lu_6 (LeakyReLU)   (None, 16, 24, 128)       0         \n",
            "                                                                 \n",
            " conv2d_7 (Conv2D)           (None, 16, 24, 128)       147584    \n",
            "                                                                 \n",
            " leaky_re_lu_7 (LeakyReLU)   (None, 16, 24, 128)       0         \n",
            "                                                                 \n",
            " max_pooling2d_3 (MaxPoolin  (None, 8, 12, 128)        0         \n",
            " g2D)                                                            \n",
            "                                                                 \n",
            " batch_normalization_3 (Bat  (None, 8, 12, 128)        512       \n",
            " chNormalization)                                                \n",
            "                                                                 \n",
            " conv2d_8 (Conv2D)           (None, 8, 12, 256)        295168    \n",
            "                                                                 \n",
            " leaky_re_lu_8 (LeakyReLU)   (None, 8, 12, 256)        0         \n",
            "                                                                 \n",
            " conv2d_9 (Conv2D)           (None, 8, 12, 256)        590080    \n",
            "                                                                 \n",
            " leaky_re_lu_9 (LeakyReLU)   (None, 8, 12, 256)        0         \n",
            "                                                                 \n",
            " max_pooling2d_4 (MaxPoolin  (None, 4, 6, 256)         0         \n",
            " g2D)                                                            \n",
            "                                                                 \n",
            " batch_normalization_4 (Bat  (None, 4, 6, 256)         1024      \n",
            " chNormalization)                                                \n",
            "                                                                 \n",
            " conv2d_10 (Conv2D)          (None, 4, 6, 256)         590080    \n",
            "                                                                 \n",
            " leaky_re_lu_10 (LeakyReLU)  (None, 4, 6, 256)         0         \n",
            "                                                                 \n",
            " conv2d_11 (Conv2D)          (None, 4, 6, 256)         590080    \n",
            "                                                                 \n",
            " leaky_re_lu_11 (LeakyReLU)  (None, 4, 6, 256)         0         \n",
            "                                                                 \n",
            " max_pooling2d_5 (MaxPoolin  (None, 2, 3, 256)         0         \n",
            " g2D)                                                            \n",
            "                                                                 \n",
            " batch_normalization_5 (Bat  (None, 2, 3, 256)         1024      \n",
            " chNormalization)                                                \n",
            "                                                                 \n",
            "=================================================================\n",
            "Total params: 2354784 (8.98 MB)\n",
            "Trainable params: 2353312 (8.98 MB)\n",
            "Non-trainable params: 1472 (5.75 KB)\n",
            "_________________________________________________________________\n",
            "None\n"
          ]
        }
      ],
      "source": [
        "# TEST CODE:\n",
        "\n",
        "test_convs, test_img_input = FCN8()\n",
        "test_model = tf.keras.Model(inputs=test_img_input, outputs=[test_convs, test_img_input])\n",
        "\n",
        "print(test_model.summary())\n",
        "\n",
        "del test_convs, test_img_input, test_model"
      ]
    },
    {
      "cell_type": "markdown",
      "metadata": {
        "id": "sxklZe_D3jOI"
      },
      "source": [
        "**Expected Output**:\n",
        "\n",
        "You should see the layers of your `conv_block()` being repeated 5 times like the output below.\n",
        "\n",
        "```txt\n",
        "Model: \"functional_3\"\n",
        "_________________________________________________________________\n",
        "Layer (type)                 Output Shape              Param #   \n",
        "=================================================================\n",
        "input_3 (InputLayer)         [(None, 64, 84, 1)]       0         \n",
        "_________________________________________________________________\n",
        "zero_padding2d (ZeroPadding2 (None, 64, 96, 1)         0         \n",
        "_________________________________________________________________\n",
        "conv2d_2 (Conv2D)            (None, 64, 96, 32)        320       \n",
        "_________________________________________________________________\n",
        "leaky_re_lu_2 (LeakyReLU)    (None, 64, 96, 32)        0         \n",
        "_________________________________________________________________\n",
        "conv2d_3 (Conv2D)            (None, 64, 96, 32)        9248      \n",
        "_________________________________________________________________\n",
        "leaky_re_lu_3 (LeakyReLU)    (None, 64, 96, 32)        0         \n",
        "_________________________________________________________________\n",
        "max_pooling2d_1 (MaxPooling2 (None, 32, 48, 32)        0         \n",
        "_________________________________________________________________\n",
        "batch_normalization_1 (Batch (None, 32, 48, 32)        128       \n",
        "_________________________________________________________________\n",
        "conv2d_4 (Conv2D)            (None, 32, 48, 64)        18496     \n",
        "_________________________________________________________________\n",
        "leaky_re_lu_4 (LeakyReLU)    (None, 32, 48, 64)        0         \n",
        "_________________________________________________________________\n",
        "conv2d_5 (Conv2D)            (None, 32, 48, 64)        36928     \n",
        "_________________________________________________________________\n",
        "leaky_re_lu_5 (LeakyReLU)    (None, 32, 48, 64)        0         \n",
        "_________________________________________________________________\n",
        "max_pooling2d_2 (MaxPooling2 (None, 16, 24, 64)        0         \n",
        "_________________________________________________________________\n",
        "batch_normalization_2 (Batch (None, 16, 24, 64)        256       \n",
        "_________________________________________________________________\n",
        "conv2d_6 (Conv2D)            (None, 16, 24, 128)       73856     \n",
        "_________________________________________________________________\n",
        "leaky_re_lu_6 (LeakyReLU)    (None, 16, 24, 128)       0         \n",
        "_________________________________________________________________\n",
        "conv2d_7 (Conv2D)            (None, 16, 24, 128)       147584    \n",
        "_________________________________________________________________\n",
        "leaky_re_lu_7 (LeakyReLU)    (None, 16, 24, 128)       0         \n",
        "_________________________________________________________________\n",
        "max_pooling2d_3 (MaxPooling2 (None, 8, 12, 128)        0         \n",
        "_________________________________________________________________\n",
        "batch_normalization_3 (Batch (None, 8, 12, 128)        512       \n",
        "_________________________________________________________________\n",
        "conv2d_8 (Conv2D)            (None, 8, 12, 256)        295168    \n",
        "_________________________________________________________________\n",
        "leaky_re_lu_8 (LeakyReLU)    (None, 8, 12, 256)        0         \n",
        "_________________________________________________________________\n",
        "conv2d_9 (Conv2D)            (None, 8, 12, 256)        590080    \n",
        "_________________________________________________________________\n",
        "leaky_re_lu_9 (LeakyReLU)    (None, 8, 12, 256)        0         \n",
        "_________________________________________________________________\n",
        "max_pooling2d_4 (MaxPooling2 (None, 4, 6, 256)         0         \n",
        "_________________________________________________________________\n",
        "batch_normalization_4 (Batch (None, 4, 6, 256)         1024      \n",
        "_________________________________________________________________\n",
        "conv2d_10 (Conv2D)           (None, 4, 6, 256)         590080    \n",
        "_________________________________________________________________\n",
        "leaky_re_lu_10 (LeakyReLU)   (None, 4, 6, 256)         0         \n",
        "_________________________________________________________________\n",
        "conv2d_11 (Conv2D)           (None, 4, 6, 256)         590080    \n",
        "_________________________________________________________________\n",
        "leaky_re_lu_11 (LeakyReLU)   (None, 4, 6, 256)         0         \n",
        "_________________________________________________________________\n",
        "max_pooling2d_5 (MaxPooling2 (None, 2, 3, 256)         0         \n",
        "_________________________________________________________________\n",
        "batch_normalization_5 (Batch (None, 2, 3, 256)         1024      \n",
        "=================================================================\n",
        "Total params: 2,354,784\n",
        "Trainable params: 2,353,312\n",
        "Non-trainable params: 1,472\n",
        "_________________________________________________________________\n",
        "None\n",
        "```"
      ]
    },
    {
      "cell_type": "markdown",
      "metadata": {
        "id": "LbjYEQU8Eq-T"
      },
      "source": [
        "### Define the FCN-8 decoder"
      ]
    },
    {
      "cell_type": "markdown",
      "metadata": {
        "id": "Ux5nAU155E5O"
      },
      "source": [
        "<a name='exercise-3'></a>\n",
        "\n",
        "#### **Exercise 3**\n",
        "\n",
        "Now you can define the upsampling path taking the outputs of convolutions at each stage as arguments. This will be very similar to what you did in the ungraded lab (VGG16-FCN8-CamVid) so you can refer to it if you need a refresher.\n",
        "* Note: remember to set the `data_format` parameter for the Conv2D layers.\n",
        "\n",
        "Here is also the diagram you saw in class on how it should work:\n",
        "\n",
        "<img src='https://drive.google.com/uc?export=view&id=1lrqB4YegV8jXWNfyYAaeuFlwXIc54aRP' alt='fcn-8'>"
      ]
    },
    {
      "cell_type": "code",
      "execution_count": 13,
      "metadata": {
        "id": "giYEct_Se5Xj"
      },
      "outputs": [],
      "source": [
        "def fcn8_decoder(convs, n_classes):\n",
        "  # features from the encoder stage\n",
        "  f3, f4, f5 = convs\n",
        "\n",
        "  # number of filters\n",
        "  n = 512\n",
        "\n",
        "  # add convolutional layers on top of the CNN extractor.\n",
        "  o = tf.keras.layers.Conv2D(n , (7 , 7) , activation='relu' , padding='same', name=\"conv6\", data_format=IMAGE_ORDERING)(f5)\n",
        "  o = tf.keras.layers.Dropout(0.5)(o)\n",
        "\n",
        "  o = tf.keras.layers.Conv2D(n , (1 , 1) , activation='relu' , padding='same', name=\"conv7\", data_format=IMAGE_ORDERING)(o)\n",
        "  o = tf.keras.layers.Dropout(0.5)(o)\n",
        "\n",
        "  o = tf.keras.layers.Conv2D(n_classes,  (1, 1), activation='relu' , padding='same', data_format=IMAGE_ORDERING)(o)\n",
        "\n",
        "\n",
        "  ### START CODE HERE ###\n",
        "\n",
        "  # Upsample `o` above and crop any extra pixels introduced\n",
        "  o = tf.keras.layers.Conv2DTranspose(n_classes,\n",
        "                                      kernel_size=(4, 4),\n",
        "                                      strides=(2, 2),\n",
        "                                      use_bias=False,\n",
        "                                      data_format=IMAGE_ORDERING)(o)\n",
        "  o = tf.keras.layers.Cropping2D(cropping=(1, 1))(o)\n",
        "\n",
        "  # load the pool 4 prediction and do a 1x1 convolution to reshape it to the same shape of `o` above\n",
        "  o2 = f4\n",
        "  o2 = tf.keras.layers.Conv2D(n_classes,\n",
        "                              kernel_size=(1, 1),\n",
        "                              activation='relu',\n",
        "                              padding='same',\n",
        "                              data_format=IMAGE_ORDERING)(o2)\n",
        "\n",
        "  # add the results of the upsampling and pool 4 prediction\n",
        "  o = tf.keras.layers.Add()([o, o2])\n",
        "\n",
        "  # upsample the resulting tensor of the operation you just did\n",
        "  o = tf.keras.layers.Conv2DTranspose(n_classes,\n",
        "                                      kernel_size=(4, 4),\n",
        "                                      strides=(2, 2),\n",
        "                                      use_bias=False,\n",
        "                                      data_format=IMAGE_ORDERING)(o)\n",
        "  o = tf.keras.layers.Cropping2D(cropping=(1, 1))(o)\n",
        "\n",
        "  # load the pool 3 prediction and do a 1x1 convolution to reshape it to the same shape of `o` above\n",
        "  o2 = f3\n",
        "  o2 = tf.keras.layers.Conv2D(n_classes,\n",
        "                              kernel_size=(1, 1),\n",
        "                              activation='relu',\n",
        "                              padding='same',\n",
        "                              data_format=IMAGE_ORDERING)(o2)\n",
        "\n",
        "  # add the results of the upsampling and pool 3 prediction\n",
        "  o = tf.keras.layers.Add()([o, o2])\n",
        "\n",
        "  # upsample up to the size of the original image\n",
        "  o = tf.keras.layers.Conv2DTranspose(n_classes,\n",
        "                                      kernel_size=(8, 8),\n",
        "                                      strides=(8, 8),\n",
        "                                      use_bias=False,\n",
        "                                      data_format=IMAGE_ORDERING)(o)\n",
        "  o = tf.keras.layers.Cropping2D(cropping=((0, 0), (0, 96-84)))(o)\n",
        "\n",
        "  # append a sigmoid activation\n",
        "  o = (tf.keras.layers.Activation('sigmoid'))(o)\n",
        "  ### END CODE HERE ###\n",
        "\n",
        "  return o"
      ]
    },
    {
      "cell_type": "code",
      "execution_count": 14,
      "metadata": {
        "id": "lQHioDlR5K1_",
        "outputId": "dd54fa05-2ab4-44ad-d736-d552109e9490",
        "colab": {
          "base_uri": "https://localhost:8080/"
        }
      },
      "outputs": [
        {
          "output_type": "stream",
          "name": "stdout",
          "text": [
            "(None, 64, 84, 11)\n"
          ]
        }
      ],
      "source": [
        "# TEST CODE\n",
        "\n",
        "test_convs, test_img_input = FCN8()\n",
        "test_fcn8_decoder = fcn8_decoder(test_convs, 11)\n",
        "\n",
        "print(test_fcn8_decoder.shape)\n",
        "\n",
        "del test_convs, test_img_input, test_fcn8_decoder"
      ]
    },
    {
      "cell_type": "markdown",
      "metadata": {
        "id": "C1qTwTX-5fwH"
      },
      "source": [
        "**Expected Output:**\n",
        "\n",
        "```txt\n",
        "(None, 64, 84, 11)\n",
        "```"
      ]
    },
    {
      "cell_type": "markdown",
      "metadata": {
        "id": "cJOhQz86Qk6n"
      },
      "source": [
        "### Define the Complete Model\n",
        "\n",
        "The downsampling and upsampling paths can now be combined as shown below."
      ]
    },
    {
      "cell_type": "code",
      "execution_count": 15,
      "metadata": {
        "id": "9EJEf484312h"
      },
      "outputs": [],
      "source": [
        "# start the encoder using the default input size 64 x 84\n",
        "convs, img_input = FCN8()\n",
        "\n",
        "# pass the convolutions obtained in the encoder to the decoder\n",
        "dec_op = fcn8_decoder(convs, n_classes)\n",
        "\n",
        "# define the model specifying the input (batch of images) and output (decoder output)\n",
        "model = tf.keras.Model(inputs = img_input, outputs = dec_op)"
      ]
    },
    {
      "cell_type": "code",
      "execution_count": 16,
      "metadata": {
        "id": "2GAenp1M4gXx",
        "outputId": "df3c914b-66b2-4567-ad4e-49a939a44a35",
        "colab": {
          "base_uri": "https://localhost:8080/"
        }
      },
      "outputs": [
        {
          "output_type": "stream",
          "name": "stdout",
          "text": [
            "Model: \"model_2\"\n",
            "__________________________________________________________________________________________________\n",
            " Layer (type)                Output Shape                 Param #   Connected to                  \n",
            "==================================================================================================\n",
            " input_4 (InputLayer)        [(None, 64, 84, 1)]          0         []                            \n",
            "                                                                                                  \n",
            " zero_padding2d_2 (ZeroPadd  (None, 64, 96, 1)            0         ['input_4[0][0]']             \n",
            " ing2D)                                                                                           \n",
            "                                                                                                  \n",
            " conv2d_25 (Conv2D)          (None, 64, 96, 32)           320       ['zero_padding2d_2[0][0]']    \n",
            "                                                                                                  \n",
            " leaky_re_lu_22 (LeakyReLU)  (None, 64, 96, 32)           0         ['conv2d_25[0][0]']           \n",
            "                                                                                                  \n",
            " conv2d_26 (Conv2D)          (None, 64, 96, 32)           9248      ['leaky_re_lu_22[0][0]']      \n",
            "                                                                                                  \n",
            " leaky_re_lu_23 (LeakyReLU)  (None, 64, 96, 32)           0         ['conv2d_26[0][0]']           \n",
            "                                                                                                  \n",
            " max_pooling2d_11 (MaxPooli  (None, 32, 48, 32)           0         ['leaky_re_lu_23[0][0]']      \n",
            " ng2D)                                                                                            \n",
            "                                                                                                  \n",
            " batch_normalization_11 (Ba  (None, 32, 48, 32)           128       ['max_pooling2d_11[0][0]']    \n",
            " tchNormalization)                                                                                \n",
            "                                                                                                  \n",
            " conv2d_27 (Conv2D)          (None, 32, 48, 64)           18496     ['batch_normalization_11[0][0]\n",
            "                                                                    ']                            \n",
            "                                                                                                  \n",
            " leaky_re_lu_24 (LeakyReLU)  (None, 32, 48, 64)           0         ['conv2d_27[0][0]']           \n",
            "                                                                                                  \n",
            " conv2d_28 (Conv2D)          (None, 32, 48, 64)           36928     ['leaky_re_lu_24[0][0]']      \n",
            "                                                                                                  \n",
            " leaky_re_lu_25 (LeakyReLU)  (None, 32, 48, 64)           0         ['conv2d_28[0][0]']           \n",
            "                                                                                                  \n",
            " max_pooling2d_12 (MaxPooli  (None, 16, 24, 64)           0         ['leaky_re_lu_25[0][0]']      \n",
            " ng2D)                                                                                            \n",
            "                                                                                                  \n",
            " batch_normalization_12 (Ba  (None, 16, 24, 64)           256       ['max_pooling2d_12[0][0]']    \n",
            " tchNormalization)                                                                                \n",
            "                                                                                                  \n",
            " conv2d_29 (Conv2D)          (None, 16, 24, 128)          73856     ['batch_normalization_12[0][0]\n",
            "                                                                    ']                            \n",
            "                                                                                                  \n",
            " leaky_re_lu_26 (LeakyReLU)  (None, 16, 24, 128)          0         ['conv2d_29[0][0]']           \n",
            "                                                                                                  \n",
            " conv2d_30 (Conv2D)          (None, 16, 24, 128)          147584    ['leaky_re_lu_26[0][0]']      \n",
            "                                                                                                  \n",
            " leaky_re_lu_27 (LeakyReLU)  (None, 16, 24, 128)          0         ['conv2d_30[0][0]']           \n",
            "                                                                                                  \n",
            " max_pooling2d_13 (MaxPooli  (None, 8, 12, 128)           0         ['leaky_re_lu_27[0][0]']      \n",
            " ng2D)                                                                                            \n",
            "                                                                                                  \n",
            " batch_normalization_13 (Ba  (None, 8, 12, 128)           512       ['max_pooling2d_13[0][0]']    \n",
            " tchNormalization)                                                                                \n",
            "                                                                                                  \n",
            " conv2d_31 (Conv2D)          (None, 8, 12, 256)           295168    ['batch_normalization_13[0][0]\n",
            "                                                                    ']                            \n",
            "                                                                                                  \n",
            " leaky_re_lu_28 (LeakyReLU)  (None, 8, 12, 256)           0         ['conv2d_31[0][0]']           \n",
            "                                                                                                  \n",
            " conv2d_32 (Conv2D)          (None, 8, 12, 256)           590080    ['leaky_re_lu_28[0][0]']      \n",
            "                                                                                                  \n",
            " leaky_re_lu_29 (LeakyReLU)  (None, 8, 12, 256)           0         ['conv2d_32[0][0]']           \n",
            "                                                                                                  \n",
            " max_pooling2d_14 (MaxPooli  (None, 4, 6, 256)            0         ['leaky_re_lu_29[0][0]']      \n",
            " ng2D)                                                                                            \n",
            "                                                                                                  \n",
            " batch_normalization_14 (Ba  (None, 4, 6, 256)            1024      ['max_pooling2d_14[0][0]']    \n",
            " tchNormalization)                                                                                \n",
            "                                                                                                  \n",
            " conv2d_33 (Conv2D)          (None, 4, 6, 256)            590080    ['batch_normalization_14[0][0]\n",
            "                                                                    ']                            \n",
            "                                                                                                  \n",
            " leaky_re_lu_30 (LeakyReLU)  (None, 4, 6, 256)            0         ['conv2d_33[0][0]']           \n",
            "                                                                                                  \n",
            " conv2d_34 (Conv2D)          (None, 4, 6, 256)            590080    ['leaky_re_lu_30[0][0]']      \n",
            "                                                                                                  \n",
            " leaky_re_lu_31 (LeakyReLU)  (None, 4, 6, 256)            0         ['conv2d_34[0][0]']           \n",
            "                                                                                                  \n",
            " max_pooling2d_15 (MaxPooli  (None, 2, 3, 256)            0         ['leaky_re_lu_31[0][0]']      \n",
            " ng2D)                                                                                            \n",
            "                                                                                                  \n",
            " batch_normalization_15 (Ba  (None, 2, 3, 256)            1024      ['max_pooling2d_15[0][0]']    \n",
            " tchNormalization)                                                                                \n",
            "                                                                                                  \n",
            " conv6 (Conv2D)              (None, 2, 3, 512)            6423040   ['batch_normalization_15[0][0]\n",
            "                                                                    ']                            \n",
            "                                                                                                  \n",
            " dropout_2 (Dropout)         (None, 2, 3, 512)            0         ['conv6[0][0]']               \n",
            "                                                                                                  \n",
            " conv7 (Conv2D)              (None, 2, 3, 512)            262656    ['dropout_2[0][0]']           \n",
            "                                                                                                  \n",
            " dropout_3 (Dropout)         (None, 2, 3, 512)            0         ['conv7[0][0]']               \n",
            "                                                                                                  \n",
            " conv2d_35 (Conv2D)          (None, 2, 3, 11)             5643      ['dropout_3[0][0]']           \n",
            "                                                                                                  \n",
            " conv2d_transpose_3 (Conv2D  (None, 6, 8, 11)             1936      ['conv2d_35[0][0]']           \n",
            " Transpose)                                                                                       \n",
            "                                                                                                  \n",
            " cropping2d_3 (Cropping2D)   (None, 4, 6, 11)             0         ['conv2d_transpose_3[0][0]']  \n",
            "                                                                                                  \n",
            " conv2d_36 (Conv2D)          (None, 4, 6, 11)             2827      ['batch_normalization_14[0][0]\n",
            "                                                                    ']                            \n",
            "                                                                                                  \n",
            " add_2 (Add)                 (None, 4, 6, 11)             0         ['cropping2d_3[0][0]',        \n",
            "                                                                     'conv2d_36[0][0]']           \n",
            "                                                                                                  \n",
            " conv2d_transpose_4 (Conv2D  (None, 10, 14, 11)           1936      ['add_2[0][0]']               \n",
            " Transpose)                                                                                       \n",
            "                                                                                                  \n",
            " cropping2d_4 (Cropping2D)   (None, 8, 12, 11)            0         ['conv2d_transpose_4[0][0]']  \n",
            "                                                                                                  \n",
            " conv2d_37 (Conv2D)          (None, 8, 12, 11)            1419      ['batch_normalization_13[0][0]\n",
            "                                                                    ']                            \n",
            "                                                                                                  \n",
            " add_3 (Add)                 (None, 8, 12, 11)            0         ['cropping2d_4[0][0]',        \n",
            "                                                                     'conv2d_37[0][0]']           \n",
            "                                                                                                  \n",
            " conv2d_transpose_5 (Conv2D  (None, 64, 96, 11)           7744      ['add_3[0][0]']               \n",
            " Transpose)                                                                                       \n",
            "                                                                                                  \n",
            " cropping2d_5 (Cropping2D)   (None, 64, 84, 11)           0         ['conv2d_transpose_5[0][0]']  \n",
            "                                                                                                  \n",
            " activation_1 (Activation)   (None, 64, 84, 11)           0         ['cropping2d_5[0][0]']        \n",
            "                                                                                                  \n",
            "==================================================================================================\n",
            "Total params: 9061985 (34.57 MB)\n",
            "Trainable params: 9060513 (34.56 MB)\n",
            "Non-trainable params: 1472 (5.75 KB)\n",
            "__________________________________________________________________________________________________\n"
          ]
        }
      ],
      "source": [
        "model.summary()"
      ]
    },
    {
      "cell_type": "markdown",
      "metadata": {
        "id": "wAAXygZtbZmu"
      },
      "source": [
        "## Compile the Model"
      ]
    },
    {
      "cell_type": "markdown",
      "metadata": {
        "id": "sC-9m1R_5tjV"
      },
      "source": [
        "<a name='exercise-4'></a>\n",
        "\n",
        "### **Exercise 4**\n",
        "\n",
        "Compile the model using an appropriate loss, optimizer, and metric."
      ]
    },
    {
      "cell_type": "code",
      "execution_count": 17,
      "metadata": {
        "id": "ZpWpp8h4g_rE"
      },
      "outputs": [],
      "source": [
        "### START CODE HERE ###\n",
        "model.compile(loss='categorical_crossentropy',\n",
        "              optimizer=tf.keras.optimizers.SGD(learning_rate=0.01,\n",
        "                                                momentum=0.9,\n",
        "                                                nesterov=True),\n",
        "              metrics=['accuracy'])\n",
        "### END CODE HERE ###"
      ]
    },
    {
      "cell_type": "markdown",
      "metadata": {
        "id": "510v0aVDXv1f"
      },
      "source": [
        "## Model Training"
      ]
    },
    {
      "cell_type": "markdown",
      "metadata": {
        "id": "1udK8qps6PcG"
      },
      "source": [
        "<a name='exercise-5'></a>\n",
        "\n",
        "### **Exercise 5**\n",
        "\n",
        "You can now train the model. Set the number of epochs and observe the metrics returned at each iteration. You can also terminate the cell execution if you think your model is performing well already."
      ]
    },
    {
      "cell_type": "code",
      "execution_count": 18,
      "metadata": {
        "id": "8HoZwpGWhMB-",
        "outputId": "be20af4f-4490-44b0-d32f-04233cc722d8",
        "colab": {
          "base_uri": "https://localhost:8080/"
        }
      },
      "outputs": [
        {
          "output_type": "stream",
          "name": "stdout",
          "text": [
            "Epoch 1/170\n",
            "125/125 [==============================] - 18s 56ms/step - loss: 0.9961 - accuracy: 0.7419 - val_loss: 0.4085 - val_accuracy: 0.9429\n",
            "Epoch 2/170\n",
            "125/125 [==============================] - 6s 45ms/step - loss: 0.2361 - accuracy: 0.9425 - val_loss: 0.4402 - val_accuracy: 0.9429\n",
            "Epoch 3/170\n",
            "125/125 [==============================] - 6s 50ms/step - loss: 0.2295 - accuracy: 0.9425 - val_loss: 0.4022 - val_accuracy: 0.9429\n",
            "Epoch 4/170\n",
            "125/125 [==============================] - 6s 45ms/step - loss: 0.2243 - accuracy: 0.9425 - val_loss: 0.2672 - val_accuracy: 0.9429\n",
            "Epoch 5/170\n",
            "125/125 [==============================] - 6s 48ms/step - loss: 0.2193 - accuracy: 0.9425 - val_loss: 0.2205 - val_accuracy: 0.9429\n",
            "Epoch 6/170\n",
            "125/125 [==============================] - 6s 47ms/step - loss: 0.2146 - accuracy: 0.9425 - val_loss: 0.2119 - val_accuracy: 0.9429\n",
            "Epoch 7/170\n",
            "125/125 [==============================] - 6s 46ms/step - loss: 0.2103 - accuracy: 0.9425 - val_loss: 0.2075 - val_accuracy: 0.9429\n",
            "Epoch 8/170\n",
            "125/125 [==============================] - 6s 48ms/step - loss: 0.2064 - accuracy: 0.9424 - val_loss: 0.2038 - val_accuracy: 0.9428\n",
            "Epoch 9/170\n",
            "125/125 [==============================] - 6s 45ms/step - loss: 0.2029 - accuracy: 0.9424 - val_loss: 0.2004 - val_accuracy: 0.9428\n",
            "Epoch 10/170\n",
            "125/125 [==============================] - 7s 52ms/step - loss: 0.2000 - accuracy: 0.9424 - val_loss: 0.1977 - val_accuracy: 0.9428\n",
            "Epoch 11/170\n",
            "125/125 [==============================] - 6s 50ms/step - loss: 0.1974 - accuracy: 0.9424 - val_loss: 0.1955 - val_accuracy: 0.9428\n",
            "Epoch 12/170\n",
            "125/125 [==============================] - 7s 53ms/step - loss: 0.1953 - accuracy: 0.9424 - val_loss: 0.1936 - val_accuracy: 0.9428\n",
            "Epoch 13/170\n",
            "125/125 [==============================] - 6s 46ms/step - loss: 0.1935 - accuracy: 0.9424 - val_loss: 0.1919 - val_accuracy: 0.9428\n",
            "Epoch 14/170\n",
            "125/125 [==============================] - 6s 50ms/step - loss: 0.1918 - accuracy: 0.9424 - val_loss: 0.1904 - val_accuracy: 0.9429\n",
            "Epoch 15/170\n",
            "125/125 [==============================] - 6s 45ms/step - loss: 0.1904 - accuracy: 0.9425 - val_loss: 0.1889 - val_accuracy: 0.9429\n",
            "Epoch 16/170\n",
            "125/125 [==============================] - 6s 49ms/step - loss: 0.1891 - accuracy: 0.9426 - val_loss: 0.1877 - val_accuracy: 0.9430\n",
            "Epoch 17/170\n",
            "125/125 [==============================] - 6s 45ms/step - loss: 0.1878 - accuracy: 0.9426 - val_loss: 0.1867 - val_accuracy: 0.9430\n",
            "Epoch 18/170\n",
            "125/125 [==============================] - 6s 48ms/step - loss: 0.1867 - accuracy: 0.9427 - val_loss: 0.1855 - val_accuracy: 0.9431\n",
            "Epoch 19/170\n",
            "125/125 [==============================] - 6s 45ms/step - loss: 0.1857 - accuracy: 0.9428 - val_loss: 0.1845 - val_accuracy: 0.9432\n",
            "Epoch 20/170\n",
            "125/125 [==============================] - 6s 49ms/step - loss: 0.1847 - accuracy: 0.9429 - val_loss: 0.1835 - val_accuracy: 0.9433\n",
            "Epoch 21/170\n",
            "125/125 [==============================] - 6s 46ms/step - loss: 0.1837 - accuracy: 0.9430 - val_loss: 0.1826 - val_accuracy: 0.9434\n",
            "Epoch 22/170\n",
            "125/125 [==============================] - 6s 46ms/step - loss: 0.1828 - accuracy: 0.9431 - val_loss: 0.1818 - val_accuracy: 0.9435\n",
            "Epoch 23/170\n",
            "125/125 [==============================] - 6s 48ms/step - loss: 0.1819 - accuracy: 0.9432 - val_loss: 0.1809 - val_accuracy: 0.9436\n",
            "Epoch 24/170\n",
            "125/125 [==============================] - 6s 45ms/step - loss: 0.1810 - accuracy: 0.9433 - val_loss: 0.1800 - val_accuracy: 0.9437\n",
            "Epoch 25/170\n",
            "125/125 [==============================] - 6s 48ms/step - loss: 0.1801 - accuracy: 0.9435 - val_loss: 0.1791 - val_accuracy: 0.9439\n",
            "Epoch 26/170\n",
            "125/125 [==============================] - 6s 46ms/step - loss: 0.1793 - accuracy: 0.9436 - val_loss: 0.1783 - val_accuracy: 0.9440\n",
            "Epoch 27/170\n",
            "125/125 [==============================] - 6s 51ms/step - loss: 0.1785 - accuracy: 0.9437 - val_loss: 0.1775 - val_accuracy: 0.9441\n",
            "Epoch 28/170\n",
            "125/125 [==============================] - 6s 48ms/step - loss: 0.1776 - accuracy: 0.9439 - val_loss: 0.1766 - val_accuracy: 0.9443\n",
            "Epoch 29/170\n",
            "125/125 [==============================] - 6s 48ms/step - loss: 0.1767 - accuracy: 0.9440 - val_loss: 0.1758 - val_accuracy: 0.9445\n",
            "Epoch 30/170\n",
            "125/125 [==============================] - 6s 45ms/step - loss: 0.1759 - accuracy: 0.9442 - val_loss: 0.1750 - val_accuracy: 0.9446\n",
            "Epoch 31/170\n",
            "125/125 [==============================] - 6s 48ms/step - loss: 0.1750 - accuracy: 0.9444 - val_loss: 0.1740 - val_accuracy: 0.9448\n",
            "Epoch 32/170\n",
            "125/125 [==============================] - 6s 45ms/step - loss: 0.1741 - accuracy: 0.9445 - val_loss: 0.1731 - val_accuracy: 0.9450\n",
            "Epoch 33/170\n",
            "125/125 [==============================] - 6s 49ms/step - loss: 0.1731 - accuracy: 0.9447 - val_loss: 0.1721 - val_accuracy: 0.9451\n",
            "Epoch 34/170\n",
            "125/125 [==============================] - 6s 46ms/step - loss: 0.1720 - accuracy: 0.9450 - val_loss: 0.1711 - val_accuracy: 0.9454\n",
            "Epoch 35/170\n",
            "125/125 [==============================] - 6s 48ms/step - loss: 0.1708 - accuracy: 0.9452 - val_loss: 0.1698 - val_accuracy: 0.9456\n",
            "Epoch 36/170\n",
            "125/125 [==============================] - 6s 47ms/step - loss: 0.1695 - accuracy: 0.9455 - val_loss: 0.1685 - val_accuracy: 0.9459\n",
            "Epoch 37/170\n",
            "125/125 [==============================] - 6s 45ms/step - loss: 0.1681 - accuracy: 0.9458 - val_loss: 0.1671 - val_accuracy: 0.9461\n",
            "Epoch 38/170\n",
            "125/125 [==============================] - 6s 49ms/step - loss: 0.1665 - accuracy: 0.9462 - val_loss: 0.1654 - val_accuracy: 0.9465\n",
            "Epoch 39/170\n",
            "125/125 [==============================] - 6s 45ms/step - loss: 0.1648 - accuracy: 0.9465 - val_loss: 0.1636 - val_accuracy: 0.9469\n",
            "Epoch 40/170\n",
            "125/125 [==============================] - 6s 48ms/step - loss: 0.1629 - accuracy: 0.9469 - val_loss: 0.1617 - val_accuracy: 0.9472\n",
            "Epoch 41/170\n",
            "125/125 [==============================] - 6s 48ms/step - loss: 0.1609 - accuracy: 0.9473 - val_loss: 0.1595 - val_accuracy: 0.9476\n",
            "Epoch 42/170\n",
            "125/125 [==============================] - 6s 50ms/step - loss: 0.1588 - accuracy: 0.9477 - val_loss: 0.1575 - val_accuracy: 0.9480\n",
            "Epoch 43/170\n",
            "125/125 [==============================] - 6s 45ms/step - loss: 0.1565 - accuracy: 0.9482 - val_loss: 0.1551 - val_accuracy: 0.9485\n",
            "Epoch 44/170\n",
            "125/125 [==============================] - 6s 48ms/step - loss: 0.1541 - accuracy: 0.9487 - val_loss: 0.1528 - val_accuracy: 0.9489\n",
            "Epoch 45/170\n",
            "125/125 [==============================] - 6s 45ms/step - loss: 0.1515 - accuracy: 0.9492 - val_loss: 0.1499 - val_accuracy: 0.9495\n",
            "Epoch 46/170\n",
            "125/125 [==============================] - 6s 47ms/step - loss: 0.1489 - accuracy: 0.9497 - val_loss: 0.1472 - val_accuracy: 0.9501\n",
            "Epoch 47/170\n",
            "125/125 [==============================] - 6s 49ms/step - loss: 0.1461 - accuracy: 0.9503 - val_loss: 0.1445 - val_accuracy: 0.9507\n",
            "Epoch 48/170\n",
            "125/125 [==============================] - 6s 49ms/step - loss: 0.1433 - accuracy: 0.9510 - val_loss: 0.1417 - val_accuracy: 0.9512\n",
            "Epoch 49/170\n",
            "125/125 [==============================] - 6s 50ms/step - loss: 0.1404 - accuracy: 0.9516 - val_loss: 0.1391 - val_accuracy: 0.9522\n",
            "Epoch 50/170\n",
            "125/125 [==============================] - 6s 46ms/step - loss: 0.1375 - accuracy: 0.9523 - val_loss: 0.1364 - val_accuracy: 0.9526\n",
            "Epoch 51/170\n",
            "125/125 [==============================] - 6s 50ms/step - loss: 0.1346 - accuracy: 0.9531 - val_loss: 0.1337 - val_accuracy: 0.9536\n",
            "Epoch 52/170\n",
            "125/125 [==============================] - 6s 45ms/step - loss: 0.1316 - accuracy: 0.9539 - val_loss: 0.1304 - val_accuracy: 0.9543\n",
            "Epoch 53/170\n",
            "125/125 [==============================] - 6s 48ms/step - loss: 0.1287 - accuracy: 0.9547 - val_loss: 0.1286 - val_accuracy: 0.9546\n",
            "Epoch 54/170\n",
            "125/125 [==============================] - 6s 45ms/step - loss: 0.1259 - accuracy: 0.9556 - val_loss: 0.1270 - val_accuracy: 0.9551\n",
            "Epoch 55/170\n",
            "125/125 [==============================] - 6s 51ms/step - loss: 0.1231 - accuracy: 0.9565 - val_loss: 0.1229 - val_accuracy: 0.9566\n",
            "Epoch 56/170\n",
            "125/125 [==============================] - 6s 46ms/step - loss: 0.1202 - accuracy: 0.9574 - val_loss: 0.1216 - val_accuracy: 0.9566\n",
            "Epoch 57/170\n",
            "125/125 [==============================] - 6s 48ms/step - loss: 0.1178 - accuracy: 0.9582 - val_loss: 0.1171 - val_accuracy: 0.9580\n",
            "Epoch 58/170\n",
            "125/125 [==============================] - 6s 46ms/step - loss: 0.1153 - accuracy: 0.9590 - val_loss: 0.1155 - val_accuracy: 0.9588\n",
            "Epoch 59/170\n",
            "125/125 [==============================] - 6s 46ms/step - loss: 0.1129 - accuracy: 0.9599 - val_loss: 0.1134 - val_accuracy: 0.9593\n",
            "Epoch 60/170\n",
            "125/125 [==============================] - 6s 50ms/step - loss: 0.1106 - accuracy: 0.9608 - val_loss: 0.1132 - val_accuracy: 0.9594\n",
            "Epoch 61/170\n",
            "125/125 [==============================] - 6s 45ms/step - loss: 0.1083 - accuracy: 0.9617 - val_loss: 0.1102 - val_accuracy: 0.9601\n",
            "Epoch 62/170\n",
            "125/125 [==============================] - 6s 48ms/step - loss: 0.1060 - accuracy: 0.9627 - val_loss: 0.1063 - val_accuracy: 0.9625\n",
            "Epoch 63/170\n",
            "125/125 [==============================] - 6s 45ms/step - loss: 0.1039 - accuracy: 0.9636 - val_loss: 0.1053 - val_accuracy: 0.9623\n",
            "Epoch 64/170\n",
            "125/125 [==============================] - 6s 50ms/step - loss: 0.1017 - accuracy: 0.9646 - val_loss: 0.1032 - val_accuracy: 0.9636\n",
            "Epoch 65/170\n",
            "125/125 [==============================] - 6s 46ms/step - loss: 0.0996 - accuracy: 0.9655 - val_loss: 0.1006 - val_accuracy: 0.9651\n",
            "Epoch 66/170\n",
            "125/125 [==============================] - 6s 48ms/step - loss: 0.0973 - accuracy: 0.9666 - val_loss: 0.0992 - val_accuracy: 0.9654\n",
            "Epoch 67/170\n",
            "125/125 [==============================] - 6s 48ms/step - loss: 0.0951 - accuracy: 0.9675 - val_loss: 0.0958 - val_accuracy: 0.9673\n",
            "Epoch 68/170\n",
            "125/125 [==============================] - 6s 48ms/step - loss: 0.0931 - accuracy: 0.9685 - val_loss: 0.0949 - val_accuracy: 0.9674\n",
            "Epoch 69/170\n",
            "125/125 [==============================] - 6s 46ms/step - loss: 0.0910 - accuracy: 0.9694 - val_loss: 0.0931 - val_accuracy: 0.9681\n",
            "Epoch 70/170\n",
            "125/125 [==============================] - 6s 49ms/step - loss: 0.0889 - accuracy: 0.9702 - val_loss: 0.0898 - val_accuracy: 0.9698\n",
            "Epoch 71/170\n",
            "125/125 [==============================] - 6s 47ms/step - loss: 0.0866 - accuracy: 0.9711 - val_loss: 0.0878 - val_accuracy: 0.9705\n",
            "Epoch 72/170\n",
            "125/125 [==============================] - 6s 46ms/step - loss: 0.0843 - accuracy: 0.9721 - val_loss: 0.0863 - val_accuracy: 0.9713\n",
            "Epoch 73/170\n",
            "125/125 [==============================] - 6s 48ms/step - loss: 0.0822 - accuracy: 0.9729 - val_loss: 0.0836 - val_accuracy: 0.9723\n",
            "Epoch 74/170\n",
            "125/125 [==============================] - 6s 45ms/step - loss: 0.0800 - accuracy: 0.9737 - val_loss: 0.0839 - val_accuracy: 0.9715\n",
            "Epoch 75/170\n",
            "125/125 [==============================] - 6s 49ms/step - loss: 0.0781 - accuracy: 0.9743 - val_loss: 0.0840 - val_accuracy: 0.9713\n",
            "Epoch 76/170\n",
            "125/125 [==============================] - 6s 45ms/step - loss: 0.0760 - accuracy: 0.9751 - val_loss: 0.0786 - val_accuracy: 0.9734\n",
            "Epoch 77/170\n",
            "125/125 [==============================] - 6s 49ms/step - loss: 0.0743 - accuracy: 0.9755 - val_loss: 0.0757 - val_accuracy: 0.9749\n",
            "Epoch 78/170\n",
            "125/125 [==============================] - 6s 45ms/step - loss: 0.0724 - accuracy: 0.9761 - val_loss: 0.0766 - val_accuracy: 0.9743\n",
            "Epoch 79/170\n",
            "125/125 [==============================] - 6s 51ms/step - loss: 0.0710 - accuracy: 0.9764 - val_loss: 0.0733 - val_accuracy: 0.9752\n",
            "Epoch 80/170\n",
            "125/125 [==============================] - 6s 45ms/step - loss: 0.0689 - accuracy: 0.9770 - val_loss: 0.0717 - val_accuracy: 0.9759\n",
            "Epoch 81/170\n",
            "125/125 [==============================] - 6s 47ms/step - loss: 0.0675 - accuracy: 0.9774 - val_loss: 0.0718 - val_accuracy: 0.9760\n",
            "Epoch 82/170\n",
            "125/125 [==============================] - 6s 46ms/step - loss: 0.0660 - accuracy: 0.9778 - val_loss: 0.0690 - val_accuracy: 0.9764\n",
            "Epoch 83/170\n",
            "125/125 [==============================] - 6s 47ms/step - loss: 0.0648 - accuracy: 0.9780 - val_loss: 0.0684 - val_accuracy: 0.9765\n",
            "Epoch 84/170\n",
            "125/125 [==============================] - 6s 47ms/step - loss: 0.0629 - accuracy: 0.9786 - val_loss: 0.0686 - val_accuracy: 0.9763\n",
            "Epoch 85/170\n",
            "125/125 [==============================] - 6s 46ms/step - loss: 0.0620 - accuracy: 0.9788 - val_loss: 0.0653 - val_accuracy: 0.9773\n",
            "Epoch 86/170\n",
            "125/125 [==============================] - 6s 48ms/step - loss: 0.0604 - accuracy: 0.9792 - val_loss: 0.0640 - val_accuracy: 0.9778\n",
            "Epoch 87/170\n",
            "125/125 [==============================] - 6s 46ms/step - loss: 0.0595 - accuracy: 0.9794 - val_loss: 0.0665 - val_accuracy: 0.9770\n",
            "Epoch 88/170\n",
            "125/125 [==============================] - 6s 49ms/step - loss: 0.0583 - accuracy: 0.9797 - val_loss: 0.0633 - val_accuracy: 0.9778\n",
            "Epoch 89/170\n",
            "125/125 [==============================] - 6s 45ms/step - loss: 0.0572 - accuracy: 0.9800 - val_loss: 0.0631 - val_accuracy: 0.9781\n",
            "Epoch 90/170\n",
            "125/125 [==============================] - 6s 48ms/step - loss: 0.0562 - accuracy: 0.9802 - val_loss: 0.0622 - val_accuracy: 0.9780\n",
            "Epoch 91/170\n",
            "125/125 [==============================] - 6s 48ms/step - loss: 0.0551 - accuracy: 0.9806 - val_loss: 0.0596 - val_accuracy: 0.9787\n",
            "Epoch 92/170\n",
            "125/125 [==============================] - 6s 51ms/step - loss: 0.0543 - accuracy: 0.9808 - val_loss: 0.0587 - val_accuracy: 0.9790\n",
            "Epoch 93/170\n",
            "125/125 [==============================] - 6s 48ms/step - loss: 0.0536 - accuracy: 0.9810 - val_loss: 0.0596 - val_accuracy: 0.9788\n",
            "Epoch 94/170\n",
            "125/125 [==============================] - 6s 49ms/step - loss: 0.0523 - accuracy: 0.9813 - val_loss: 0.0585 - val_accuracy: 0.9791\n",
            "Epoch 95/170\n",
            "125/125 [==============================] - 6s 46ms/step - loss: 0.0515 - accuracy: 0.9815 - val_loss: 0.0563 - val_accuracy: 0.9797\n",
            "Epoch 96/170\n",
            "125/125 [==============================] - 6s 46ms/step - loss: 0.0510 - accuracy: 0.9817 - val_loss: 0.0574 - val_accuracy: 0.9794\n",
            "Epoch 97/170\n",
            "125/125 [==============================] - 6s 47ms/step - loss: 0.0502 - accuracy: 0.9819 - val_loss: 0.0575 - val_accuracy: 0.9792\n",
            "Epoch 98/170\n",
            "125/125 [==============================] - 6s 46ms/step - loss: 0.0494 - accuracy: 0.9821 - val_loss: 0.0563 - val_accuracy: 0.9796\n",
            "Epoch 99/170\n",
            "125/125 [==============================] - 6s 49ms/step - loss: 0.0489 - accuracy: 0.9823 - val_loss: 0.0548 - val_accuracy: 0.9800\n",
            "Epoch 100/170\n",
            "125/125 [==============================] - 6s 45ms/step - loss: 0.0482 - accuracy: 0.9825 - val_loss: 0.0534 - val_accuracy: 0.9806\n",
            "Epoch 101/170\n",
            "125/125 [==============================] - 6s 51ms/step - loss: 0.0472 - accuracy: 0.9828 - val_loss: 0.0565 - val_accuracy: 0.9797\n",
            "Epoch 102/170\n",
            "125/125 [==============================] - 6s 45ms/step - loss: 0.0466 - accuracy: 0.9830 - val_loss: 0.0605 - val_accuracy: 0.9782\n",
            "Epoch 103/170\n",
            "125/125 [==============================] - 6s 51ms/step - loss: 0.0461 - accuracy: 0.9831 - val_loss: 0.0553 - val_accuracy: 0.9797\n",
            "Epoch 104/170\n",
            "125/125 [==============================] - 6s 46ms/step - loss: 0.0456 - accuracy: 0.9833 - val_loss: 0.0544 - val_accuracy: 0.9802\n",
            "Epoch 105/170\n",
            "125/125 [==============================] - 6s 48ms/step - loss: 0.0449 - accuracy: 0.9835 - val_loss: 0.0516 - val_accuracy: 0.9810\n",
            "Epoch 106/170\n",
            "125/125 [==============================] - 6s 46ms/step - loss: 0.0443 - accuracy: 0.9837 - val_loss: 0.0517 - val_accuracy: 0.9809\n",
            "Epoch 107/170\n",
            "125/125 [==============================] - 6s 50ms/step - loss: 0.0438 - accuracy: 0.9838 - val_loss: 0.0508 - val_accuracy: 0.9810\n",
            "Epoch 108/170\n",
            "125/125 [==============================] - 6s 46ms/step - loss: 0.0434 - accuracy: 0.9840 - val_loss: 0.0503 - val_accuracy: 0.9815\n",
            "Epoch 109/170\n",
            "125/125 [==============================] - 6s 49ms/step - loss: 0.0429 - accuracy: 0.9841 - val_loss: 0.0491 - val_accuracy: 0.9818\n",
            "Epoch 110/170\n",
            "125/125 [==============================] - 6s 47ms/step - loss: 0.0426 - accuracy: 0.9842 - val_loss: 0.0492 - val_accuracy: 0.9818\n",
            "Epoch 111/170\n",
            "125/125 [==============================] - 6s 46ms/step - loss: 0.0419 - accuracy: 0.9844 - val_loss: 0.0521 - val_accuracy: 0.9805\n",
            "Epoch 112/170\n",
            "125/125 [==============================] - 6s 48ms/step - loss: 0.0416 - accuracy: 0.9845 - val_loss: 0.0493 - val_accuracy: 0.9817\n",
            "Epoch 113/170\n",
            "125/125 [==============================] - 6s 48ms/step - loss: 0.0412 - accuracy: 0.9847 - val_loss: 0.0497 - val_accuracy: 0.9815\n",
            "Epoch 114/170\n",
            "125/125 [==============================] - 6s 49ms/step - loss: 0.0408 - accuracy: 0.9848 - val_loss: 0.0503 - val_accuracy: 0.9815\n",
            "Epoch 115/170\n",
            "125/125 [==============================] - 6s 47ms/step - loss: 0.0402 - accuracy: 0.9850 - val_loss: 0.0522 - val_accuracy: 0.9808\n",
            "Epoch 116/170\n",
            "125/125 [==============================] - 6s 49ms/step - loss: 0.0399 - accuracy: 0.9851 - val_loss: 0.0485 - val_accuracy: 0.9820\n",
            "Epoch 117/170\n",
            "125/125 [==============================] - 6s 46ms/step - loss: 0.0396 - accuracy: 0.9852 - val_loss: 0.0482 - val_accuracy: 0.9819\n",
            "Epoch 118/170\n",
            "125/125 [==============================] - 6s 48ms/step - loss: 0.0392 - accuracy: 0.9853 - val_loss: 0.0476 - val_accuracy: 0.9821\n",
            "Epoch 119/170\n",
            "125/125 [==============================] - 6s 46ms/step - loss: 0.0389 - accuracy: 0.9854 - val_loss: 0.0484 - val_accuracy: 0.9819\n",
            "Epoch 120/170\n",
            "125/125 [==============================] - 6s 50ms/step - loss: 0.0384 - accuracy: 0.9855 - val_loss: 0.0464 - val_accuracy: 0.9826\n",
            "Epoch 121/170\n",
            "125/125 [==============================] - 6s 46ms/step - loss: 0.0382 - accuracy: 0.9856 - val_loss: 0.0461 - val_accuracy: 0.9826\n",
            "Epoch 122/170\n",
            "125/125 [==============================] - 6s 47ms/step - loss: 0.0378 - accuracy: 0.9858 - val_loss: 0.0464 - val_accuracy: 0.9825\n",
            "Epoch 123/170\n",
            "125/125 [==============================] - 6s 47ms/step - loss: 0.0376 - accuracy: 0.9858 - val_loss: 0.0452 - val_accuracy: 0.9830\n",
            "Epoch 124/170\n",
            "125/125 [==============================] - 6s 49ms/step - loss: 0.0372 - accuracy: 0.9859 - val_loss: 0.0487 - val_accuracy: 0.9816\n",
            "Epoch 125/170\n",
            "125/125 [==============================] - 6s 47ms/step - loss: 0.0372 - accuracy: 0.9860 - val_loss: 0.0473 - val_accuracy: 0.9823\n",
            "Epoch 126/170\n",
            "125/125 [==============================] - 6s 45ms/step - loss: 0.0368 - accuracy: 0.9861 - val_loss: 0.0450 - val_accuracy: 0.9830\n",
            "Epoch 127/170\n",
            "125/125 [==============================] - 6s 48ms/step - loss: 0.0365 - accuracy: 0.9862 - val_loss: 0.0456 - val_accuracy: 0.9827\n",
            "Epoch 128/170\n",
            "125/125 [==============================] - 6s 45ms/step - loss: 0.0362 - accuracy: 0.9863 - val_loss: 0.0450 - val_accuracy: 0.9830\n",
            "Epoch 129/170\n",
            "125/125 [==============================] - 6s 50ms/step - loss: 0.0360 - accuracy: 0.9864 - val_loss: 0.0470 - val_accuracy: 0.9823\n",
            "Epoch 130/170\n",
            "125/125 [==============================] - 6s 48ms/step - loss: 0.0356 - accuracy: 0.9865 - val_loss: 0.0468 - val_accuracy: 0.9822\n",
            "Epoch 131/170\n",
            "125/125 [==============================] - 7s 53ms/step - loss: 0.0353 - accuracy: 0.9866 - val_loss: 0.0440 - val_accuracy: 0.9834\n",
            "Epoch 132/170\n",
            "125/125 [==============================] - 6s 45ms/step - loss: 0.0351 - accuracy: 0.9867 - val_loss: 0.0441 - val_accuracy: 0.9833\n",
            "Epoch 133/170\n",
            "125/125 [==============================] - 6s 50ms/step - loss: 0.0350 - accuracy: 0.9867 - val_loss: 0.0440 - val_accuracy: 0.9833\n",
            "Epoch 134/170\n",
            "125/125 [==============================] - 6s 46ms/step - loss: 0.0346 - accuracy: 0.9868 - val_loss: 0.0442 - val_accuracy: 0.9834\n",
            "Epoch 135/170\n",
            "125/125 [==============================] - 6s 49ms/step - loss: 0.0346 - accuracy: 0.9868 - val_loss: 0.0440 - val_accuracy: 0.9833\n",
            "Epoch 136/170\n",
            "125/125 [==============================] - 6s 49ms/step - loss: 0.0343 - accuracy: 0.9869 - val_loss: 0.0437 - val_accuracy: 0.9836\n",
            "Epoch 137/170\n",
            "125/125 [==============================] - 6s 46ms/step - loss: 0.0341 - accuracy: 0.9870 - val_loss: 0.0433 - val_accuracy: 0.9835\n",
            "Epoch 138/170\n",
            "125/125 [==============================] - 6s 48ms/step - loss: 0.0338 - accuracy: 0.9871 - val_loss: 0.0433 - val_accuracy: 0.9835\n",
            "Epoch 139/170\n",
            "125/125 [==============================] - 6s 46ms/step - loss: 0.0336 - accuracy: 0.9872 - val_loss: 0.0435 - val_accuracy: 0.9836\n",
            "Epoch 140/170\n",
            "125/125 [==============================] - 6s 49ms/step - loss: 0.0335 - accuracy: 0.9872 - val_loss: 0.0432 - val_accuracy: 0.9836\n",
            "Epoch 141/170\n",
            "125/125 [==============================] - 6s 46ms/step - loss: 0.0334 - accuracy: 0.9872 - val_loss: 0.0423 - val_accuracy: 0.9840\n",
            "Epoch 142/170\n",
            "125/125 [==============================] - 7s 53ms/step - loss: 0.0331 - accuracy: 0.9873 - val_loss: 0.0424 - val_accuracy: 0.9839\n",
            "Epoch 143/170\n",
            "125/125 [==============================] - 6s 49ms/step - loss: 0.0329 - accuracy: 0.9874 - val_loss: 0.0433 - val_accuracy: 0.9837\n",
            "Epoch 144/170\n",
            "125/125 [==============================] - 6s 49ms/step - loss: 0.0327 - accuracy: 0.9875 - val_loss: 0.0421 - val_accuracy: 0.9839\n",
            "Epoch 145/170\n",
            "125/125 [==============================] - 6s 46ms/step - loss: 0.0326 - accuracy: 0.9875 - val_loss: 0.0417 - val_accuracy: 0.9842\n",
            "Epoch 146/170\n",
            "125/125 [==============================] - 6s 51ms/step - loss: 0.0324 - accuracy: 0.9876 - val_loss: 0.0425 - val_accuracy: 0.9838\n",
            "Epoch 147/170\n",
            "125/125 [==============================] - 6s 48ms/step - loss: 0.0322 - accuracy: 0.9876 - val_loss: 0.0419 - val_accuracy: 0.9841\n",
            "Epoch 148/170\n",
            "125/125 [==============================] - 6s 51ms/step - loss: 0.0320 - accuracy: 0.9877 - val_loss: 0.0423 - val_accuracy: 0.9839\n",
            "Epoch 149/170\n",
            "125/125 [==============================] - 6s 48ms/step - loss: 0.0318 - accuracy: 0.9878 - val_loss: 0.0418 - val_accuracy: 0.9841\n",
            "Epoch 150/170\n",
            "125/125 [==============================] - 6s 50ms/step - loss: 0.0317 - accuracy: 0.9878 - val_loss: 0.0415 - val_accuracy: 0.9842\n",
            "Epoch 151/170\n",
            "125/125 [==============================] - 6s 49ms/step - loss: 0.0316 - accuracy: 0.9879 - val_loss: 0.0417 - val_accuracy: 0.9843\n",
            "Epoch 152/170\n",
            "125/125 [==============================] - 6s 49ms/step - loss: 0.0315 - accuracy: 0.9879 - val_loss: 0.0412 - val_accuracy: 0.9843\n",
            "Epoch 153/170\n",
            "125/125 [==============================] - 6s 47ms/step - loss: 0.0313 - accuracy: 0.9879 - val_loss: 0.0414 - val_accuracy: 0.9843\n",
            "Epoch 154/170\n",
            "125/125 [==============================] - 6s 46ms/step - loss: 0.0310 - accuracy: 0.9880 - val_loss: 0.0411 - val_accuracy: 0.9844\n",
            "Epoch 155/170\n",
            "125/125 [==============================] - 6s 52ms/step - loss: 0.0310 - accuracy: 0.9881 - val_loss: 0.0408 - val_accuracy: 0.9845\n",
            "Epoch 156/170\n",
            "125/125 [==============================] - 6s 46ms/step - loss: 0.0309 - accuracy: 0.9881 - val_loss: 0.0407 - val_accuracy: 0.9845\n",
            "Epoch 157/170\n",
            "125/125 [==============================] - 6s 49ms/step - loss: 0.0308 - accuracy: 0.9882 - val_loss: 0.0427 - val_accuracy: 0.9838\n",
            "Epoch 158/170\n",
            "125/125 [==============================] - 6s 46ms/step - loss: 0.0306 - accuracy: 0.9882 - val_loss: 0.0403 - val_accuracy: 0.9847\n",
            "Epoch 159/170\n",
            "125/125 [==============================] - 6s 49ms/step - loss: 0.0305 - accuracy: 0.9883 - val_loss: 0.0407 - val_accuracy: 0.9845\n",
            "Epoch 160/170\n",
            "125/125 [==============================] - 6s 46ms/step - loss: 0.0303 - accuracy: 0.9883 - val_loss: 0.0403 - val_accuracy: 0.9847\n",
            "Epoch 161/170\n",
            "125/125 [==============================] - 6s 51ms/step - loss: 0.0303 - accuracy: 0.9883 - val_loss: 0.0404 - val_accuracy: 0.9847\n",
            "Epoch 162/170\n",
            "125/125 [==============================] - 6s 46ms/step - loss: 0.0301 - accuracy: 0.9884 - val_loss: 0.0405 - val_accuracy: 0.9846\n",
            "Epoch 163/170\n",
            "125/125 [==============================] - 6s 48ms/step - loss: 0.0300 - accuracy: 0.9884 - val_loss: 0.0405 - val_accuracy: 0.9846\n",
            "Epoch 164/170\n",
            "125/125 [==============================] - 6s 46ms/step - loss: 0.0299 - accuracy: 0.9885 - val_loss: 0.0423 - val_accuracy: 0.9840\n",
            "Epoch 165/170\n",
            "125/125 [==============================] - 6s 49ms/step - loss: 0.0297 - accuracy: 0.9885 - val_loss: 0.0403 - val_accuracy: 0.9847\n",
            "Epoch 166/170\n",
            "125/125 [==============================] - 6s 48ms/step - loss: 0.0296 - accuracy: 0.9886 - val_loss: 0.0401 - val_accuracy: 0.9847\n",
            "Epoch 167/170\n",
            "125/125 [==============================] - 6s 45ms/step - loss: 0.0295 - accuracy: 0.9886 - val_loss: 0.0398 - val_accuracy: 0.9848\n",
            "Epoch 168/170\n",
            "125/125 [==============================] - 6s 49ms/step - loss: 0.0294 - accuracy: 0.9887 - val_loss: 0.0410 - val_accuracy: 0.9846\n",
            "Epoch 169/170\n",
            "125/125 [==============================] - 6s 46ms/step - loss: 0.0293 - accuracy: 0.9887 - val_loss: 0.0403 - val_accuracy: 0.9846\n",
            "Epoch 170/170\n",
            "125/125 [==============================] - 7s 52ms/step - loss: 0.0292 - accuracy: 0.9887 - val_loss: 0.0393 - val_accuracy: 0.9851\n"
          ]
        }
      ],
      "source": [
        "# OTHER THAN SETTING THE EPOCHS NUMBER, DO NOT CHANGE ANY OTHER CODE\n",
        "\n",
        "### START CODE HERE ###\n",
        "EPOCHS = 170\n",
        "### END CODE HERE ###\n",
        "\n",
        "steps_per_epoch = 4000//BATCH_SIZE\n",
        "validation_steps = 800//BATCH_SIZE\n",
        "test_steps = 200//BATCH_SIZE\n",
        "\n",
        "\n",
        "history = model.fit(training_dataset,\n",
        "                    steps_per_epoch=steps_per_epoch, validation_data=validation_dataset, validation_steps=validation_steps, epochs=EPOCHS)"
      ]
    },
    {
      "cell_type": "markdown",
      "metadata": {
        "id": "BLNzLB3peeNG"
      },
      "source": [
        "**Expected Output:**\n",
        "\n",
        "The losses should generally be decreasing and the accuracies should generally be increasing. For example, observing the first 4 epochs should output something similar:\n",
        "\n",
        "```txt\n",
        "Epoch 1/70\n",
        "125/125 [==============================] - 6s 50ms/step - loss: 0.5542 - accuracy: 0.8635 - val_loss: 0.5335 - val_accuracy: 0.9427\n",
        "Epoch 2/70\n",
        "125/125 [==============================] - 6s 47ms/step - loss: 0.2315 - accuracy: 0.9425 - val_loss: 0.3362 - val_accuracy: 0.9427\n",
        "Epoch 3/70\n",
        "125/125 [==============================] - 6s 47ms/step - loss: 0.2118 - accuracy: 0.9426 - val_loss: 0.2592 - val_accuracy: 0.9427\n",
        "Epoch 4/70\n",
        "125/125 [==============================] - 6s 47ms/step - loss: 0.1782 - accuracy: 0.9431 - val_loss: 0.1770 - val_accuracy: 0.9432\n",
        "```"
      ]
    },
    {
      "cell_type": "markdown",
      "metadata": {
        "id": "eih-Q7GoXzJe"
      },
      "source": [
        "## Model Evaluation"
      ]
    },
    {
      "cell_type": "markdown",
      "metadata": {
        "id": "2bTkaFM2X1gr"
      },
      "source": [
        "### Make Predictions\n",
        "\n",
        "Let's get the predictions using our test dataset as input and print the shape."
      ]
    },
    {
      "cell_type": "code",
      "execution_count": 19,
      "metadata": {
        "id": "zENjQuK0luH5",
        "outputId": "0c2062d5-662c-4379-a393-0ed95de10fcc",
        "colab": {
          "base_uri": "https://localhost:8080/"
        }
      },
      "outputs": [
        {
          "output_type": "stream",
          "name": "stdout",
          "text": [
            "6/6 [==============================] - 1s 16ms/step\n",
            "(192, 64, 84, 11)\n"
          ]
        }
      ],
      "source": [
        "results = model.predict(test_dataset, steps=test_steps)\n",
        "\n",
        "print(results.shape)"
      ]
    },
    {
      "cell_type": "markdown",
      "metadata": {
        "id": "IReKPT_DZHjA"
      },
      "source": [
        "As you can see, the resulting shape is `(192, 64, 84, 11)`. This means that for each of the 192 images that we have in our test set, there are 11 predictions generated (i.e. one for each class: 0 to 1 plus background)."
      ]
    },
    {
      "cell_type": "markdown",
      "metadata": {
        "id": "OBPBqnHyaSaG"
      },
      "source": [
        "Thus, if you want to see the *probability* of the upper leftmost pixel of the 1st image belonging to class 0, then you can print something like `results[0,0,0,0]`. If you want the probability of the same pixel at class 10, then do `results[0,0,0,10]`.\n",
        "\n",
        "\n"
      ]
    },
    {
      "cell_type": "code",
      "execution_count": 20,
      "metadata": {
        "id": "jwFiR9WAf0Av",
        "outputId": "44d46676-8f62-45f8-bbd9-b2d17daa5465",
        "colab": {
          "base_uri": "https://localhost:8080/"
        }
      },
      "outputs": [
        {
          "output_type": "stream",
          "name": "stdout",
          "text": [
            "0.28280798\n",
            "0.9999461\n"
          ]
        }
      ],
      "source": [
        "print(results[0,0,0,0])\n",
        "print(results[0,0,0,10])"
      ]
    },
    {
      "cell_type": "markdown",
      "metadata": {
        "id": "wKDsqzKEf28V"
      },
      "source": [
        "What we're interested in is to get the *index* of the highest probability of each of these 11 slices and combine them in a single image. We can do that by getting the [argmax](https://numpy.org/doc/stable/reference/generated/numpy.argmax.html) at this axis."
      ]
    },
    {
      "cell_type": "code",
      "execution_count": 21,
      "metadata": {
        "id": "0_Uj_uuV9TQt",
        "outputId": "1217d15d-3425-4277-ae3f-fc3697610cee",
        "colab": {
          "base_uri": "https://localhost:8080/"
        }
      },
      "outputs": [
        {
          "output_type": "stream",
          "name": "stdout",
          "text": [
            "(192, 64, 84)\n"
          ]
        }
      ],
      "source": [
        "results = np.argmax(results, axis=3)\n",
        "\n",
        "print(results.shape)"
      ]
    },
    {
      "cell_type": "markdown",
      "metadata": {
        "id": "ClaGbOLhdKD2"
      },
      "source": [
        "The new array generated per image now only specifies the indices of the class with the highest probability. Let's see the output class of the upper most left pixel. As you might have observed earlier when you inspected the dataset, the upper left corner is usually just part of the background (class 10). The actual digits are written somewhere in the middle parts of the image."
      ]
    },
    {
      "cell_type": "code",
      "execution_count": 22,
      "metadata": {
        "id": "aBeBwvHQd2pZ",
        "outputId": "266715f5-e1bb-4001-ff0b-e51d1ee6a4de",
        "colab": {
          "base_uri": "https://localhost:8080/"
        }
      },
      "outputs": [
        {
          "output_type": "stream",
          "name": "stdout",
          "text": [
            "10\n",
            "[[10 10 10 ... 10 10 10]\n",
            " [10 10 10 ... 10 10 10]\n",
            " [10 10 10 ... 10 10 10]\n",
            " ...\n",
            " [10 10 10 ... 10 10 10]\n",
            " [10 10 10 ... 10 10 10]\n",
            " [10 10 10 ... 10 10 10]]\n"
          ]
        }
      ],
      "source": [
        "print(results[0,0,0])\n",
        "\n",
        "# prediction map for image 0\n",
        "print(results[0,:,:])"
      ]
    },
    {
      "cell_type": "markdown",
      "metadata": {
        "id": "V3FxyNgrg7IE"
      },
      "source": [
        "We will use this `results` array when we evaluate our predictions."
      ]
    },
    {
      "cell_type": "markdown",
      "metadata": {
        "id": "hpKDUuAWX5Pj"
      },
      "source": [
        "### Metrics\n",
        "\n",
        "We showed in the lectures two ways to evaluate your predictions. The *intersection over union (IOU)* and the *dice score*. Recall that:\n",
        "\n",
        "$$IOU = \\frac{area\\_of\\_overlap}{area\\_of\\_union}$$\n",
        "<br>\n",
        "$$Dice Score = 2 * \\frac{area\\_of\\_overlap}{combined\\_area}$$\n",
        "\n",
        "The code below does that for you as you've also seen in the ungraded lab. A small smoothing factor is introduced in the denominators to prevent possible division by zero."
      ]
    },
    {
      "cell_type": "code",
      "execution_count": 23,
      "metadata": {
        "id": "gKTpLmly_RXb"
      },
      "outputs": [],
      "source": [
        "def class_wise_metrics(y_true, y_pred):\n",
        "  '''\n",
        "  Computes the class-wise IOU and Dice Score.\n",
        "\n",
        "  Args:\n",
        "    y_true (tensor) - ground truth label maps\n",
        "    y_pred (tensor) - predicted label maps\n",
        "  '''\n",
        "  class_wise_iou = []\n",
        "  class_wise_dice_score = []\n",
        "\n",
        "  smoothing_factor = 0.00001\n",
        "\n",
        "  for i in range(n_classes):\n",
        "    intersection = np.sum((y_pred == i) * (y_true == i))\n",
        "    y_true_area = np.sum((y_true == i))\n",
        "    y_pred_area = np.sum((y_pred == i))\n",
        "    combined_area = y_true_area + y_pred_area\n",
        "\n",
        "    iou = (intersection) / (combined_area - intersection + smoothing_factor)\n",
        "    class_wise_iou.append(iou)\n",
        "\n",
        "    dice_score =  2 * ((intersection) / (combined_area + smoothing_factor))\n",
        "    class_wise_dice_score.append(dice_score)\n",
        "\n",
        "  return class_wise_iou, class_wise_dice_score\n"
      ]
    },
    {
      "cell_type": "markdown",
      "metadata": {
        "id": "FfWPwM4ZhHjE"
      },
      "source": [
        "### Visualize Predictions"
      ]
    },
    {
      "cell_type": "code",
      "execution_count": 24,
      "metadata": {
        "id": "Hkbsk_P1fpRM",
        "outputId": "435032b0-97f7-46f7-be56-efbe84519521",
        "colab": {
          "base_uri": "https://localhost:8080/",
          "height": 333
        }
      },
      "outputs": [
        {
          "output_type": "display_data",
          "data": {
            "text/plain": [
              "<Figure size 1500x400 with 3 Axes>"
            ],
            "image/png": "[encoded data removed]"
          },
          "metadata": {}
        }
      ],
      "source": [
        "# place a number here between 0 to 191 to pick an image from the test set\n",
        "integer_slider = 105\n",
        "\n",
        "ds = test_dataset.unbatch()\n",
        "ds = ds.batch(200)\n",
        "images = []\n",
        "\n",
        "y_true_segments = []\n",
        "for image, annotation in ds.take(2):\n",
        "  y_true_segments = annotation\n",
        "  images = image\n",
        "\n",
        "\n",
        "iou, dice_score = class_wise_metrics(np.argmax(y_true_segments[integer_slider], axis=2), results[integer_slider])\n",
        "show_annotation_and_prediction(image[integer_slider], annotation[integer_slider], results[integer_slider], iou, dice_score)\n"
      ]
    },
    {
      "cell_type": "markdown",
      "metadata": {
        "id": "EiG9K4t6X9iZ"
      },
      "source": [
        "### Compute IOU Score and Dice Score of your model"
      ]
    },
    {
      "cell_type": "code",
      "execution_count": 25,
      "metadata": {
        "id": "2706boF0CNNS",
        "outputId": "86196071-48c4-48d7-a5ea-00ae165f9fbf",
        "colab": {
          "base_uri": "https://localhost:8080/"
        }
      },
      "outputs": [
        {
          "output_type": "stream",
          "name": "stdout",
          "text": [
            "Digit 0: IOU: 0.7770120910453621 Dice Score: 0.8745152550855966\n",
            "Digit 1: IOU: 0.7980427028513285 Dice Score: 0.8876793655521037\n",
            "Digit 2: IOU: 0.7426991767186005 Dice Score: 0.8523549980864272\n",
            "Digit 3: IOU: 0.7004317145409795 Dice Score: 0.8238281003010539\n",
            "Digit 4: IOU: 0.7546296283356831 Dice Score: 0.8601583105050735\n",
            "Digit 5: IOU: 0.6728070160684056 Dice Score: 0.8044048232768684\n",
            "Digit 6: IOU: 0.7372928942189092 Dice Score: 0.8487836411146984\n",
            "Digit 7: IOU: 0.7864850272639803 Dice Score: 0.8804832005432366\n",
            "Digit 8: IOU: 0.7518435745789458 Dice Score: 0.8583455572049585\n",
            "Digit 9: IOU: 0.7251869682783788 Dice Score: 0.840705363085448\n",
            "\n",
            "Grade is 74.46430793900574\n",
            "You passed!\n"
          ]
        }
      ],
      "source": [
        "cls_wise_iou, cls_wise_dice_score = class_wise_metrics(np.argmax(y_true_segments, axis=3), results)\n",
        "\n",
        "average_iou = 0.0\n",
        "for idx, (iou, dice_score) in enumerate(zip(cls_wise_iou[:-1], cls_wise_dice_score[:-1])):\n",
        "  print(\"Digit {}: IOU: {} Dice Score: {}\".format(idx, iou, dice_score))\n",
        "  average_iou += iou\n",
        "\n",
        "grade = average_iou * 10\n",
        "\n",
        "print(\"\\nGrade is \" + str(grade))\n",
        "\n",
        "PASSING_GRADE = 60\n",
        "if (grade>PASSING_GRADE):\n",
        "  print(\"You passed!\")\n",
        "else:\n",
        "  print(\"You failed. Please check your model and re-train\")"
      ]
    },
    {
      "cell_type": "markdown",
      "metadata": {
        "id": "vvw0HLY2kV3w"
      },
      "source": [
        "## Save the Model\n",
        "\n",
        "Once you're satisfied with the results, you can save your model and upload it to the grader in Coursera. Please run all succeeding cells to ensure that you will have a gradable submission. Otherwise, you might get this error message:\n",
        "\n",
        "`There was a problem grading your submission. Check stderr for more details.`\n",
        "\n",
        "First, save the model file in your Colab workspace."
      ]
    },
    {
      "cell_type": "code",
      "execution_count": 26,
      "metadata": {
        "id": "ULCfGHEKkaO0",
        "outputId": "d2d9c23e-68d8-4ec2-afdc-fe24cde1ea21",
        "colab": {
          "base_uri": "https://localhost:8080/"
        }
      },
      "outputs": [
        {
          "output_type": "stream",
          "name": "stderr",
          "text": [
            "/usr/local/lib/python3.10/dist-packages/keras/src/engine/training.py:3103: UserWarning: You are saving your model as an HDF5 file via `model.save()`. This file format is considered legacy. We recommend using instead the native Keras format, e.g. `model.save('my_model.keras')`.\n",
            "  saving_api.save_model(\n"
          ]
        }
      ],
      "source": [
        "# Save the model you just trained\n",
        "model.save(\"temp_model.h5\")"
      ]
    },
    {
      "cell_type": "markdown",
      "metadata": {
        "id": "SuUoVmXBZYqc"
      },
      "source": [
        "Tensorflow releases minor and patch updates every few months ([sometimes quicker](https://pypi.org/project/tensorflow/#history)). Oftentimes, the code and syntax won't change but the newer versions will have a different model definition under the hood. The next cells will convert your newer model to one that the grader can read. You won't have to do this in your personal projects. This is just an extra step for grading."
      ]
    },
    {
      "cell_type": "code",
      "execution_count": 27,
      "metadata": {
        "id": "OxpkHjH40s_F",
        "outputId": "8e53357a-1f79-4103-992a-5e687c5222f2",
        "colab": {
          "base_uri": "https://localhost:8080/"
        }
      },
      "outputs": [
        {
          "output_type": "stream",
          "name": "stdout",
          "text": [
            "\u001b[2K   \u001b[90m━━━━━━━━━━━━━━━━━━━━━━━━━━━━━━━━━━━━━━━━\u001b[0m \u001b[32m497.6/497.6 MB\u001b[0m \u001b[31m3.7 MB/s\u001b[0m eta \u001b[36m0:00:00\u001b[0m\n",
            "\u001b[2K   \u001b[90m━━━━━━━━━━━━━━━━━━━━━━━━━━━━━━━━━━━━━━━━\u001b[0m \u001b[32m462.5/462.5 kB\u001b[0m \u001b[31m25.6 MB/s\u001b[0m eta \u001b[36m0:00:00\u001b[0m\n",
            "\u001b[2K   \u001b[90m━━━━━━━━━━━━━━━━━━━━━━━━━━━━━━━━━━━━━━━━\u001b[0m \u001b[32m1.4/1.4 MB\u001b[0m \u001b[31m40.0 MB/s\u001b[0m eta \u001b[36m0:00:00\u001b[0m\n",
            "\u001b[2K   \u001b[90m━━━━━━━━━━━━━━━━━━━━━━━━━━━━━━━━━━━━━━━━\u001b[0m \u001b[32m42.6/42.6 kB\u001b[0m \u001b[31m3.8 MB/s\u001b[0m eta \u001b[36m0:00:00\u001b[0m\n",
            "\u001b[2K   \u001b[90m━━━━━━━━━━━━━━━━━━━━━━━━━━━━━━━━━━━━━━━━\u001b[0m \u001b[32m5.8/5.8 MB\u001b[0m \u001b[31m59.4 MB/s\u001b[0m eta \u001b[36m0:00:00\u001b[0m\n",
            "\u001b[2K   \u001b[90m━━━━━━━━━━━━━━━━━━━━━━━━━━━━━━━━━━━━━━━━\u001b[0m \u001b[32m4.9/4.9 MB\u001b[0m \u001b[31m56.5 MB/s\u001b[0m eta \u001b[36m0:00:00\u001b[0m\n",
            "\u001b[2K   \u001b[90m━━━━━━━━━━━━━━━━━━━━━━━━━━━━━━━━━━━━━━━━\u001b[0m \u001b[32m781.3/781.3 kB\u001b[0m \u001b[31m34.6 MB/s\u001b[0m eta \u001b[36m0:00:00\u001b[0m\n",
            "\u001b[?25h\u001b[31mERROR: pip's dependency resolver does not currently take into account all the packages that are installed. This behaviour is the source of the following dependency conflicts.\n",
            "pandas-gbq 0.24.0 requires google-auth-oauthlib>=0.7.0, but you have google-auth-oauthlib 0.4.6 which is incompatible.\u001b[0m\u001b[31m\n",
            "\u001b[0m"
          ]
        }
      ],
      "source": [
        "# Install packages for compatibility with the autograder\n",
        "\n",
        "# NOTE: You can safely ignore errors about version incompatibility of\n",
        "# Colab-bundled packages (e.g. xarray, pydantic, etc.)\n",
        "\n",
        "!pip install tensorflow==2.8.0 --quiet\n",
        "!pip install keras==2.8.0 --quiet"
      ]
    },
    {
      "cell_type": "markdown",
      "metadata": {
        "id": "bQf0BVmsXIAM"
      },
      "source": [
        "Wait for the cell above to complete. After that, **go to `Runtime > Restart Session` and wait for the kernel to reconnect.** This is necessary so you can reload Tensorflow with the version installed above. Run the next cell to check if you have the correct version. You will get an `AssertionError` if you didn't restart the session."
      ]
    },
    {
      "cell_type": "code",
      "execution_count": 28,
      "metadata": {
        "id": "TEcDAyaNMyW-",
        "outputId": "b4f12434-ee70-480b-eba4-4c34104b328e",
        "colab": {
          "base_uri": "https://localhost:8080/",
          "height": 176
        }
      },
      "outputs": [
        {
          "output_type": "error",
          "ename": "AssertionError",
          "evalue": "You have TF2.15.0. Please install the grader-compatible Tensorflow and select Runtime > Restart Session",
          "traceback": [
            "\u001b[0;31m---------------------------------------------------------------------------\u001b[0m",
            "\u001b[0;31mAssertionError\u001b[0m                            Traceback (most recent call last)",
            "\u001b[0;32m<ipython-input-28-fe4685dd9894>\u001b[0m in \u001b[0;36m<cell line: 4>\u001b[0;34m()\u001b[0m\n\u001b[1;32m      2\u001b[0m \u001b[0;34m\u001b[0m\u001b[0m\n\u001b[1;32m      3\u001b[0m \u001b[0;31m# Check if you have the correct Tensorflow version\u001b[0m\u001b[0;34m\u001b[0m\u001b[0;34m\u001b[0m\u001b[0m\n\u001b[0;32m----> 4\u001b[0;31m \u001b[0;32massert\u001b[0m \u001b[0mtf\u001b[0m\u001b[0;34m.\u001b[0m\u001b[0m__version__\u001b[0m \u001b[0;34m==\u001b[0m \u001b[0;34m'2.8.0'\u001b[0m\u001b[0;34m,\u001b[0m \u001b[0;34mf'You have TF{tf.__version__}. Please install the grader-compatible Tensorflow and select Runtime > Restart Session'\u001b[0m\u001b[0;34m\u001b[0m\u001b[0;34m\u001b[0m\u001b[0m\n\u001b[0m",
            "\u001b[0;31mAssertionError\u001b[0m: You have TF2.15.0. Please install the grader-compatible Tensorflow and select Runtime > Restart Session"
          ]
        }
      ],
      "source": [
        "import tensorflow as tf\n",
        "\n",
        "# Check if you have the correct Tensorflow version\n",
        "assert tf.__version__ == '2.8.0', f'You have TF{tf.__version__}. Please install the grader-compatible Tensorflow and select Runtime > Restart Session'"
      ]
    },
    {
      "cell_type": "markdown",
      "metadata": {
        "id": "kaFHTqWufL9F"
      },
      "source": [
        "If you didn't get an error above, you can finally convert the model."
      ]
    },
    {
      "cell_type": "code",
      "execution_count": 29,
      "metadata": {
        "id": "ljeWKuSKYEHE",
        "outputId": "4c09c0d2-c7eb-430a-d0b6-eb6d49889c11",
        "colab": {
          "base_uri": "https://localhost:8080/"
        }
      },
      "outputs": [
        {
          "output_type": "stream",
          "name": "stderr",
          "text": [
            "WARNING:tensorflow:Compiled the loaded model, but the compiled metrics have yet to be built. `model.compile_metrics` will be empty until you train or evaluate the model.\n"
          ]
        }
      ],
      "source": [
        "# Load the model you saved earlier\n",
        "model = tf.keras.models.load_model(\"temp_model.h5\", compile=False)\n",
        "\n",
        "# Re-save the model with the compatible TF version\n",
        "model.save(\"final_model.h5\")"
      ]
    },
    {
      "cell_type": "markdown",
      "metadata": {
        "id": "vG4JE2JNYGUG"
      },
      "source": [
        "Please look for `final_model.h5` in the File Explorer on the left and download it. Then go back to the Coursera classroom and upload it to the Lab item that points to the autograder of Week 3. Alternatively, you can also use the cell below to download the model.\n",
        "\n"
      ]
    },
    {
      "cell_type": "code",
      "execution_count": 30,
      "metadata": {
        "id": "NCd50-pubX_o",
        "outputId": "423d3789-c6cf-4dce-b3d5-2d685e445752",
        "colab": {
          "base_uri": "https://localhost:8080/",
          "height": 17
        }
      },
      "outputs": [
        {
          "output_type": "display_data",
          "data": {
            "text/plain": [
              "<IPython.core.display.Javascript object>"
            ],
            "application/javascript": [
              "\n",
              "    async function download(id, filename, size) {\n",
              "      if (!google.colab.kernel.accessAllowed) {\n",
              "        return;\n",
              "      }\n",
              "      const div = document.createElement('div');\n",
              "      const label = document.createElement('label');\n",
              "      label.textContent = `Downloading \"${filename}\": `;\n",
              "      div.appendChild(label);\n",
              "      const progress = document.createElement('progress');\n",
              "      progress.max = size;\n",
              "      div.appendChild(progress);\n",
              "      document.body.appendChild(div);\n",
              "\n",
              "      const buffers = [];\n",
              "      let downloaded = 0;\n",
              "\n",
              "      const channel = await google.colab.kernel.comms.open(id);\n",
              "      // Send a message to notify the kernel that we're ready.\n",
              "      channel.send({})\n",
              "\n",
              "      for await (const message of channel.messages) {\n",
              "        // Send a message to notify the kernel that we're ready.\n",
              "        channel.send({})\n",
              "        if (message.buffers) {\n",
              "          for (const buffer of message.buffers) {\n",
              "            buffers.push(buffer);\n",
              "            downloaded += buffer.byteLength;\n",
              "            progress.value = downloaded;\n",
              "          }\n",
              "        }\n",
              "      }\n",
              "      const blob = new Blob(buffers, {type: 'application/binary'});\n",
              "      const a = document.createElement('a');\n",
              "      a.href = window.URL.createObjectURL(blob);\n",
              "      a.download = filename;\n",
              "      div.appendChild(a);\n",
              "      a.click();\n",
              "      div.remove();\n",
              "    }\n",
              "  "
            ]
          },
          "metadata": {}
        },
        {
          "output_type": "display_data",
          "data": {
            "text/plain": [
              "<IPython.core.display.Javascript object>"
            ],
            "application/javascript": [
              "download(\"download_823c9ad6-929a-44f1-a336-ceef80b23f7c\", \"final_model.h5\", 36371312)"
            ]
          },
          "metadata": {}
        }
      ],
      "source": [
        "# You can also use this cell as a shortcut for downloading your model\n",
        "from google.colab import files\n",
        "files.download(\"final_model.h5\")"
      ]
    },
    {
      "cell_type": "markdown",
      "metadata": {
        "id": "dmyvoAynkgVw"
      },
      "source": [
        "**Congratulations on completing this assignment on image segmentation!**"
      ]
    }
  ],
  "metadata": {
    "accelerator": "GPU",
    "colab": {
      "name": "Copy of C3W3_Assignment_Solution.ipynb",
      "provenance": []
    },
    "kernelspec": {
      "display_name": "Python 3 (ipykernel)",
      "language": "python",
      "name": "python3"
    },
    "language_info": {
      "codemirror_mode": {
        "name": "ipython",
        "version": 3
      },
      "file_extension": ".py",
      "mimetype": "text/x-python",
      "name": "python",
      "nbconvert_exporter": "python",
      "pygments_lexer": "ipython3",
      "version": "3.9.13"
    }
  },
  "nbformat": 4,
  "nbformat_minor": 0
}